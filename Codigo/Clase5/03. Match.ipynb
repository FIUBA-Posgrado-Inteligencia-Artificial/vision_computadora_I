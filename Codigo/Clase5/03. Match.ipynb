{
 "cells": [
  {
   "cell_type": "markdown",
   "metadata": {},
   "source": [
    "## Correspondencia de Características (Match)"
   ]
  },
  {
   "cell_type": "code",
   "execution_count": 1,
   "metadata": {},
   "outputs": [
    {
     "name": "stdout",
     "output_type": "stream",
     "text": [
      "Using matplotlib backend: Qt5Agg\n"
     ]
    }
   ],
   "source": [
    "#Si queremos que las imágenes sean mostradas en una ventana emergente quitar el inline\n",
    "# %matplotlib inline\n",
    "%matplotlib\n",
    "\n",
    "import numpy as np\n",
    "import cv2 as cv\n",
    "import matplotlib.pyplot as plt"
   ]
  },
  {
   "cell_type": "code",
   "execution_count": 2,
   "metadata": {},
   "outputs": [],
   "source": [
    "# Cargamos la imagen a buscar\n",
    "img1 = cv.imread('imagenes/mask_libro.png', cv.IMREAD_GRAYSCALE)\n",
    "\n",
    "# Cargamos la imagen de búsqueda\n",
    "img2 = cv.imread('imagenes/libro_busqueda_1.jpg', cv.IMREAD_GRAYSCALE)"
   ]
  },
  {
   "cell_type": "markdown",
   "metadata": {},
   "source": [
    "#### 1. Generamos las características con ORB"
   ]
  },
  {
   "cell_type": "code",
   "execution_count": 4,
   "metadata": {},
   "outputs": [
    {
     "name": "stdout",
     "output_type": "stream",
     "text": [
      "1908\n",
      "3000\n"
     ]
    }
   ],
   "source": [
    "# Inicializamos el detector ORB\n",
    "orb = cv.ORB_create(nfeatures=3000)\n",
    "\n",
    "# find the keypoints and descriptors with ORB\n",
    "kp1, des1 = orb.detectAndCompute(img1,None)\n",
    "kp2, des2 = orb.detectAndCompute(img2,None)\n",
    "\n",
    "print(len(kp1))\n",
    "print(len(kp2))"
   ]
  },
  {
   "cell_type": "markdown",
   "metadata": {},
   "source": [
    "#### 1.1. Coincidimos con Fuerza Bruta"
   ]
  },
  {
   "cell_type": "code",
   "execution_count": 6,
   "metadata": {},
   "outputs": [
    {
     "data": {
      "text/plain": [
       "(<matplotlib.image.AxesImage at 0x1f038752388>, None)"
      ]
     },
     "execution_count": 6,
     "metadata": {},
     "output_type": "execute_result"
    }
   ],
   "source": [
    "# Cremos el objeto BFMatcher\n",
    "bf = cv.BFMatcher(cv.NORM_HAMMING, crossCheck=True)\n",
    "\n",
    "# Coincidimos descriptores.\n",
    "matches = bf.match(des1, des2)\n",
    "\n",
    "# Los ordenamos según distancia\n",
    "matches = sorted(matches, key = lambda x:x.distance)\n",
    "\n",
    "# Dibujamos las primeras 30 coincidencias\n",
    "n=10\n",
    "img3 = cv.drawMatches(img1,kp1,img2,kp2,matches[:n],None,flags=cv.DrawMatchesFlags_NOT_DRAW_SINGLE_POINTS)\n",
    "plt.imshow(img3),plt.show()"
   ]
  },
  {
   "cell_type": "markdown",
   "metadata": {},
   "source": [
    "#### 2. Generamos las características con SIFT"
   ]
  },
  {
   "cell_type": "code",
   "execution_count": null,
   "metadata": {},
   "outputs": [],
   "source": [
    "# Creamos el vector de características SIFT\n",
    "sift = cv.xfeatures2d.SIFT_create()\n",
    "\n",
    "# Y buscamos según el algoritmo...\n",
    "kp1, des1 = sift.detectAndCompute(img1,None)\n",
    "kp2, des2 = sift.detectAndCompute(img2,None)\n",
    "\n",
    "print(len(kp1))\n",
    "print(len(kp2))"
   ]
  },
  {
   "cell_type": "markdown",
   "metadata": {},
   "source": [
    "#### 2.1 Coincidimos con Fuerza Bruta y verificación de proporción (1er & 2do vecino cercano)"
   ]
  },
  {
   "cell_type": "code",
   "execution_count": null,
   "metadata": {},
   "outputs": [],
   "source": [
    "# BFMatcher con parámetros por defecto\n",
    "bf = cv.BFMatcher()\n",
    "# K es la cantidad de \"best matches\" para cada descriptor\n",
    "matches = bf.knnMatch(des1, des2, k=2)\n",
    "\n",
    "# Aplicar test de proporción\n",
    "good = []\n",
    "for m, n in matches:\n",
    "    if m.distance < 0.8*n.distance:\n",
    "        good.append(m)\n",
    "\n",
    "# Los ordenamos según distancia\n",
    "good = sorted(good, key = lambda x:x.distance)\n",
    "# Dibujamos las primeras N coincidencias\n",
    "N = 30\n",
    "\n",
    "# cv.drawMatchesKnn espera una lista de listas como coincidencias\n",
    "img3 = cv.drawMatchesKnn(img1, kp1, img2, kp2, [good[:N]], None, flags=cv.DrawMatchesFlags_NOT_DRAW_SINGLE_POINTS)\n",
    "#img3 = cv.drawMatchesKnn(img1,kp1,img2,kp2,good,None,flags=cv.DrawMatchesFlags_DEFAULT)\n",
    "plt.figure()\n",
    "plt.imshow(img3),plt.show()"
   ]
  },
  {
   "cell_type": "markdown",
   "metadata": {},
   "source": [
    "#### 2.2 Coincidimos con FLANN (Fast Library for Approximate Nearest Neighbors)\n",
    "\n",
    "Colección de algoritmos optimizados para búsqueda rápida de vecinos cercanos."
   ]
  },
  {
   "cell_type": "code",
   "execution_count": null,
   "metadata": {},
   "outputs": [],
   "source": [
    "# parámetros FLANN\n",
    "FLANN_INDEX_KDTREE = 1\n",
    "index_params = dict(algorithm = FLANN_INDEX_KDTREE, trees = 5)\n",
    "search_params = dict(checks=50)   # o pasar un diccionario vacío\n",
    "flann = cv.FlannBasedMatcher(index_params,search_params)\n",
    "# K es la cantidad de \"best matches\" para cada descriptor\n",
    "matches = flann.knnMatch(des1, des2, k=2)\n",
    "\n",
    "# Necesidad de dibujar solo las coincidencias buenas, se crea una máscara\n",
    "matchesMask = [[0,0] for i in range(len(matches))]\n",
    "\n",
    "# Ratio de verificación como figura en el paper de Lowe\n",
    "for i,(m,n) in enumerate(matches):\n",
    "    if m.distance < 0.7*n.distance:\n",
    "        matchesMask[i]=[1,0]\n",
    "draw_params = dict(matchColor = (0,255,0),\n",
    "                   singlePointColor = (255,0,0),\n",
    "                   matchesMask = matchesMask,\n",
    "                   flags = cv.DrawMatchesFlags_DEFAULT)\n",
    "img3 = cv.drawMatchesKnn(img1,kp1,img2,kp2,matches,None,**draw_params)\n",
    "plt.imshow(img3,),plt.show()"
   ]
  },
  {
   "cell_type": "markdown",
   "metadata": {},
   "source": [
    "#### 2.3 Coincidimos con FLANN + Homografía"
   ]
  },
  {
   "cell_type": "code",
   "execution_count": null,
   "metadata": {},
   "outputs": [],
   "source": [
    "FLANN_INDEX_KDTREE = 1\n",
    "index_params = dict(algorithm = FLANN_INDEX_KDTREE, trees = 5)\n",
    "search_params = dict(checks = 50)\n",
    "flann = cv.FlannBasedMatcher(index_params, search_params)\n",
    "matches = flann.knnMatch(des1,des2,k=2)\n",
    "\n",
    "# Guardar todos las buenas coincidencias según la verificación de Ratio de Lowe\n",
    "good = []\n",
    "for m,n in matches:\n",
    "    if m.distance < 0.7*n.distance:\n",
    "        good.append(m)\n",
    "print(len(good))"
   ]
  },
  {
   "cell_type": "code",
   "execution_count": null,
   "metadata": {},
   "outputs": [],
   "source": [
    "# https://docs.opencv.org/4.x/d9/dab/tutorial_homography.html\n",
    "\n",
    "MIN_MATCH_COUNT = 8\n",
    "\n",
    "if len(good) > MIN_MATCH_COUNT:\n",
    "    src_pts = np.float32([ kp1[m.queryIdx].pt for m in good ]).reshape(-1,1,2)\n",
    "    dst_pts = np.float32([ kp2[m.trainIdx].pt for m in good ]).reshape(-1,1,2)\n",
    "    M, mask = cv.findHomography(src_pts, dst_pts, cv.RANSAC, 5.0)\n",
    "    matchesMask = mask.ravel().tolist()\n",
    "    h,w = img1.shape\n",
    "    pts = np.float32([ [0,0],[0,h-1],[w-1,h-1],[w-1,0] ]).reshape(-1,1,2)\n",
    "    dst = cv.perspectiveTransform(pts, M)\n",
    "    img2 = cv.polylines(img2, [np.int32(dst)], True, 255, 3, cv.LINE_AA)\n",
    "else:\n",
    "    print( \"No se encontraron suficientes coincidencias - {}/{}\".format(len(good), MIN_MATCH_COUNT) )\n",
    "    matchesMask = None\n",
    "\n",
    "print(mask)"
   ]
  },
  {
   "cell_type": "code",
   "execution_count": null,
   "metadata": {},
   "outputs": [],
   "source": [
    "draw_params = dict(matchColor = (0,255,0), # dibujar coincidencias en verde\n",
    "                   singlePointColor = None,\n",
    "                   matchesMask = matchesMask, # dibujar solo inliers\n",
    "                   flags = 2)\n",
    "img3 = cv.drawMatches(img1, kp1, img2, kp2, good, None, **draw_params)\n",
    "plt.imshow(img3, 'gray'),plt.show()"
   ]
  }
 ],
 "metadata": {
  "kernelspec": {
   "display_name": "Python 3.7.10 ('vision-robotica')",
   "language": "python",
   "name": "python3"
  },
  "language_info": {
   "codemirror_mode": {
    "name": "ipython",
    "version": 3
   },
   "file_extension": ".py",
   "mimetype": "text/x-python",
   "name": "python",
   "nbconvert_exporter": "python",
   "pygments_lexer": "ipython3",
   "version": "3.7.10"
  },
  "vscode": {
   "interpreter": {
    "hash": "0af437b5139b375ee3fab2b21e8a1376590e14b3c752e237587dc080bd8d5be3"
   }
  }
 },
 "nbformat": 4,
 "nbformat_minor": 4
}
