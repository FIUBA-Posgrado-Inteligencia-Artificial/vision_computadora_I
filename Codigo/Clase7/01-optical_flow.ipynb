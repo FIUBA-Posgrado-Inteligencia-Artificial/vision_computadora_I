{
 "cells": [
  {
   "attachments": {
    "image.png": {
     "image/png": "[encoded data removed]"
    }
   },
   "cell_type": "markdown",
   "metadata": {},
   "source": [
    "### Método de Lucas-Kanade\n",
    "\n",
    "En la suposición de este método se asume que todos los píxeles vecinos tendrán un movimiento similar. El método de Lucas-Kanade toma un parche de 3x3 píxels alrededor del punto. Entonces, los 9 puntos tendrían el mismo movimiento. Así, podemos encontrar (FX,Fy,Ft) para estos 9 puntos, con lo que el problema se convierte en resolver 9 ecuaciones con dos variables desconocidas (u,v) que está sobredeterminado. La mejor solución solución se obtiene con el método de ajuste de mínimos cuadrados. A continuación se muestra la solución final que es dos ecuaciones, dos problemas desconocidos y resolver para obtener la solución.\n",
    "\n",
    "![image.png](attachment:image.png)\n"
   ]
  },
  {
   "cell_type": "code",
   "execution_count": 1,
   "metadata": {},
   "outputs": [],
   "source": [
    "import numpy as np\n",
    "import cv2 as cv"
   ]
  },
  {
   "cell_type": "code",
   "execution_count": 2,
   "metadata": {},
   "outputs": [],
   "source": [
    "filename = 'slow_traffic_small.mp4'\n",
    "cap = cv.VideoCapture(filename)\n",
    "\n",
    "# Parámetros para la detección de esquinas de ShiTomasi\n",
    "feature_params = dict( maxCorners = 100,\n",
    "                       qualityLevel = 0.3,\n",
    "                       minDistance = 7,\n",
    "                       blockSize = 7 )\n",
    "\n",
    "# Parámetros para el algoritmo de Lucas-Kanade\n",
    "lk_params = dict( winSize  = (15,15),\n",
    "                  maxLevel = 2,\n",
    "                  criteria = (cv.TERM_CRITERIA_COUNT | cv.TERM_CRITERIA_EPS, 10, 0.03))\n",
    "\n",
    "# Creamos algunos colores aleatorios (para los marcadores)\n",
    "color = np.random.randint(0,255,(100,3))\n",
    "\n",
    "# Tomamos el primer frame y encontramos las esquinas en el mismo\n",
    "ret, old_frame = cap.read()\n",
    "old_gray = cv.cvtColor(old_frame, cv.COLOR_BGR2GRAY)\n",
    "p0 = cv.goodFeaturesToTrack(old_gray, mask = None, **feature_params)\n",
    "\n",
    "# Creamos una máscara para dibujar sobre la misma (las estelas de colores)\n",
    "mask = np.zeros_like(old_frame)\n",
    "\n",
    "# Corremos el algoritmo sobre todos los frames\n",
    "while True:\n",
    "    ret,frame = cap.read()\n",
    "    frame_gray = cv.cvtColor(frame, cv.COLOR_BGR2GRAY)\n",
    "    \n",
    "    # Calculamos el flujo óptico con LK (frame anterior, frame nuevo, características, parámetros)\n",
    "    p1, st, err = cv.calcOpticalFlowPyrLK(old_gray, frame_gray, p0, None, **lk_params)\n",
    "    \n",
    "    # Elegimos las características \"buenas\" en el nuevo frame\n",
    "    good_new = p1[st==1]\n",
    "    good_old = p0[st==1]\n",
    "    \n",
    "    # Dibujamos las estelas de tracking\n",
    "    for i,(new,old) in enumerate(zip(good_new, good_old)):\n",
    "        a,b = new.ravel()\n",
    "        c,d = old.ravel()\n",
    "        mask = cv.line(mask, (int(a), int(b)),(int(c), int(d)), color[i].tolist(), 2)\n",
    "        frame = cv.circle(frame,(int(a), int(b)),5,color[i].tolist(),-1)\n",
    "        \n",
    "    # Sumamos las estelas dibujadas sobre la máscara a la imagen actual\n",
    "    img = cv.add(frame,mask)\n",
    "    cv.imshow('frame',img)\n",
    "    \n",
    "    # Salimos cuando presione escape\n",
    "    k = cv.waitKey(30) & 0xff\n",
    "    if k == 27: # ESC\n",
    "        break\n",
    "        \n",
    "    # Actualizamos el \"frame viejo\" al actual y las características a seguir\n",
    "    old_gray = frame_gray.copy()\n",
    "    p0 = good_new.reshape(-1,1,2)\n",
    "\n",
    "cv.destroyAllWindows()\n",
    "cap.release()"
   ]
  },
  {
   "cell_type": "markdown",
   "metadata": {},
   "source": [
    "### Dense Flow - Gunner Farneback\n",
    "\n",
    "El método de Lucas-Kanade calcula el flujo óptico para un conjunto de características dispersas (en el ejemplo anterior, las esquinas detectadas mediante el algoritmo Shi-Tomasi). OpenCV proporciona otro algoritmo para encontrar el flujo óptico denso. Calcula el flujo óptico para todos los puntos del marco. Se basa en el algoritmo de Gunner Farneback que se explica en \"Two-Frame Motion Estimation Based on Polynomial Expansion\", Gunner Farneback en 2003.\n",
    "\n",
    "El siguiente ejemplo muestra cómo encontrar el flujo óptico denso utilizando el algoritmo anterior. Obtenemos una matriz de 2 canales con vectores de flujo ópticos,( u , v ). Encontramos su magnitud y dirección. Codificamos con colores el resultado para una mejor visualización. \n",
    "\n",
    "- La dirección corresponde al tono (Hue) de la imagen\n",
    "- La magnitud corresponde al valor (Value)"
   ]
  },
  {
   "cell_type": "code",
   "execution_count": 3,
   "metadata": {},
   "outputs": [],
   "source": [
    "# Creamos el puntero al video\n",
    "filename = 'slow_traffic_small.mp4'\n",
    "#filename = 'vtest.avi'\n",
    "cap = cv.VideoCapture(filename)\n",
    "ret, frame1 = cap.read()\n",
    "\n",
    "# Transformamos de color a grises el primer frame\n",
    "prvs = cv.cvtColor(frame1,cv.COLOR_BGR2GRAY)\n",
    "\n",
    "# Vamos a generar una imagen HSV donde representar el flujo. Vamos a utilizar:\n",
    "# Canal S: todo en 255\n",
    "# Canal H: Ángulo de la dirección de movimiento\n",
    "# Canal V: Magnitud de la velocidad\n",
    "hsv = np.zeros_like(frame1)\n",
    "hsv[...,1] = 255 \n",
    "\n",
    "# Corremos el algoritmo\n",
    "while True:\n",
    "    # Leemos el frame actual\n",
    "    ret, frame2 = cap.read()\n",
    "    next = cv.cvtColor(frame2,cv.COLOR_BGR2GRAY)\n",
    "    \n",
    "    # Calculamos el flujo óptico usando el algoritmo de Farneback\n",
    "    flow = cv.calcOpticalFlowFarneback(prev=prvs,\n",
    "                                      next=next,\n",
    "                                      flow=None,\n",
    "                                      pyr_scale=0.5,\n",
    "                                      levels=3,\n",
    "                                      winsize=15,\n",
    "                                      iterations=3,\n",
    "                                      poly_n=5,\n",
    "                                      poly_sigma=1.2,\n",
    "                                      flags=0)\n",
    "    \n",
    "    # A partir del flujo óptico obtenemos ángulo (dirección) y magnitud (velocidad)\n",
    "    mag, ang = cv.cartToPolar(flow[...,0], flow[...,1])\n",
    "    hsv[...,0] = ang*180/np.pi/2\n",
    "    hsv[...,2] = cv.normalize(mag,None,0,255,cv.NORM_MINMAX)\n",
    "    \n",
    "    # Convertimos ahora la imagen HSV a BGR para mostrarla\n",
    "    bgr = cv.cvtColor(hsv,cv.COLOR_HSV2BGR)\n",
    "    cv.imshow('frame2',bgr)\n",
    "    \n",
    "    # Si presionamos escape salimos. Si apretamos 's' grabamos el frame actual y la imagen de flujo óptico\n",
    "    k = cv.waitKey(30) & 0xff\n",
    "    if k == ord('q'):\n",
    "        break\n",
    "    elif k == ord('s'):\n",
    "        cv.imwrite('opticalfb.png',frame2)\n",
    "        cv.imwrite('opticalhsv.png',bgr)\n",
    "    \n",
    "    # Actualizamos el frame para el próximo paso del seguimiento\n",
    "    prvs = next\n",
    "\n",
    "cv.destroyAllWindows()\n",
    "cap.release()"
   ]
  },
  {
   "cell_type": "code",
   "execution_count": null,
   "metadata": {},
   "outputs": [],
   "source": []
  }
 ],
 "metadata": {
  "kernelspec": {
   "display_name": "Python 3.10.4 ('vision-robotica')",
   "language": "python",
   "name": "python3"
  },
  "language_info": {
   "codemirror_mode": {
    "name": "ipython",
    "version": 3
   },
   "file_extension": ".py",
   "mimetype": "text/x-python",
   "name": "python",
   "nbconvert_exporter": "python",
   "pygments_lexer": "ipython3",
   "version": "3.10.14"
  },
  "vscode": {
   "interpreter": {
    "hash": "fcd94ee2c745c82b4a7788a843f61686f2bc538c6603f83d11fe195d600bf387"
   }
  }
 },
 "nbformat": 4,
 "nbformat_minor": 4
}
