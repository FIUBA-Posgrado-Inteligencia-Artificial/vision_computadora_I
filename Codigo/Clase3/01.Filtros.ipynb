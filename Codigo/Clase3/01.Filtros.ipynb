{
 "cells": [
  {
   "attachments": {},
   "cell_type": "markdown",
   "metadata": {},
   "source": [
    "## Filtros"
   ]
  },
  {
   "cell_type": "code",
   "execution_count": 3,
   "metadata": {},
   "outputs": [
    {
     "name": "stdout",
     "output_type": "stream",
     "text": [
      "Using matplotlib backend: Qt5Agg\n"
     ]
    }
   ],
   "source": [
    "#Si queremos que las imágenes sean mostradas en una ventana emergente quitar el inline\n",
    "# %matplotlib inline\n",
    "%matplotlib\n",
    "\n",
    "import numpy as np\n",
    "import cv2 as cv\n",
    "import matplotlib.pyplot as plt\n",
    "from skimage.util import random_noise"
   ]
  },
  {
   "attachments": {},
   "cell_type": "markdown",
   "metadata": {},
   "source": [
    "#### Filtro Gaussiano"
   ]
  },
  {
   "cell_type": "code",
   "execution_count": 6,
   "metadata": {},
   "outputs": [
    {
     "name": "stdout",
     "output_type": "stream",
     "text": [
      "[[0.12007838]\n",
      " [0.23388076]\n",
      " [0.29208172]\n",
      " [0.23388076]\n",
      " [0.12007838]]\n",
      "1.0\n"
     ]
    }
   ],
   "source": [
    "# Parámetros:\n",
    "# ksize - Tamaño del núcleo, positivo impar (3,5,...)\n",
    "# sigma - Desvío estándar de la Gaussiana. Si no es positivo, se calcula como sigma = 0.3*((ksize-1)*0.5 - 1) + 0.8 \n",
    "# ktype - Tipo de coeficientes del filtro (Optional). Puede ser CV_32F o CV_64F\n",
    "nucleo_g = cv.getGaussianKernel(ksize=5, sigma=1.5) \n",
    "print(nucleo_g)\n",
    "print(np.sum(nucleo_g*nucleo_g.T))"
   ]
  },
  {
   "cell_type": "code",
   "execution_count": 7,
   "metadata": {},
   "outputs": [
    {
     "name": "stdout",
     "output_type": "stream",
     "text": [
      "[[0.01441882 0.02808402 0.0350727  0.02808402 0.01441882]\n",
      " [0.02808402 0.05470021 0.06831229 0.05470021 0.02808402]\n",
      " [0.0350727  0.06831229 0.08531173 0.06831229 0.0350727 ]\n",
      " [0.02808402 0.05470021 0.06831229 0.05470021 0.02808402]\n",
      " [0.01441882 0.02808402 0.0350727  0.02808402 0.01441882]]\n",
      "1.0\n"
     ]
    }
   ],
   "source": [
    "kernel = nucleo_g * nucleo_g.T\n",
    "print(kernel)\n",
    "print(np.sum(kernel))"
   ]
  },
  {
   "cell_type": "code",
   "execution_count": 10,
   "metadata": {},
   "outputs": [],
   "source": [
    "# Suavizado Gaussiano usando el Kernel\n",
    "#=====================================\n",
    "img_orig = cv.imread('chewbacca.jpg')\n",
    " \n",
    "# Creamos un núcleo Gaussiano unidimensional\n",
    "kX = cv.getGaussianKernel(ksize=17, sigma=5)\n",
    "kY = cv.getGaussianKernel(ksize=17, sigma=5)\n",
    " \n",
    "# Aplicamos el filtro Gaussiano. Con distinto núcleo para X e Y!\n",
    "result_a = cv.sepFilter2D(img_orig,  ddepth=-1, kernelX=kX, kernelY=kY)\n",
    "\n",
    "# Más fácil utilizando una única línea\n",
    "# (cuando el kernel es cuadrado)\n",
    "\n",
    "result_b = cv.GaussianBlur(img_orig, ksize=(17, 17), sigmaX=5,  sigmaY=5)\n",
    "\n",
    "# Mostramos la imagen\n",
    "out1 = cv.hconcat([result_b, result_a])\n",
    "# out2 = cv.hconcat([img_orig, result_b])\n",
    "\n",
    "cv.namedWindow(\"Chewbacca - sepFilter2D\", 2)\n",
    "cv.imshow(\"Chewbacca - sepFilter2D\", out1)\n",
    "\n",
    "cv.namedWindow(\"Chewbacca - GaussianBlur\", 2)\n",
    "cv.imshow(\"Chewbacca - GaussianBlur\", out2)"
   ]
  },
  {
   "attachments": {},
   "cell_type": "markdown",
   "metadata": {},
   "source": [
    "#### Filtro de mediana\n",
    "\n"
   ]
  },
  {
   "cell_type": "code",
   "execution_count": null,
   "metadata": {},
   "outputs": [],
   "source": [
    "img2 = cv.imread('tapitas.jpg',0)\n",
    "\n",
    "# Agregar ruido salt&pepper a la imagen\n",
    "noise_img = random_noise(img2, mode=\"s&p\", amount=0.3)\n",
    "noise_img = np.array(255*noise_img, dtype = 'uint8')\n",
    "\n",
    "# Otra manera de agregar ruido (no es salt&pepper) con numpy\n",
    "# gauss = np.random.normal(0,1,img2.size)\n",
    "# gauss = gauss.reshape(img2.shape[0],img2.shape[1]).astype('uint8')\n",
    "# noise_img = img2 + img2 * gauss\n",
    "\n",
    "# Aplicar el filtro de media\n",
    "mean = cv.blur(noise_img, (5,5))\n",
    "\n",
    "# Aplicar el filtro de mediana\n",
    "median = cv.medianBlur(noise_img, 5)\n",
    " \n",
    "# Mostrar la imagen\n",
    "cv.imshow('Original - S&P', noise_img)\n",
    "cv.imshow('Media', mean)\n",
    "cv.imshow('Mediana', median)"
   ]
  },
  {
   "attachments": {},
   "cell_type": "markdown",
   "metadata": {},
   "source": [
    "#### DoG"
   ]
  },
  {
   "cell_type": "code",
   "execution_count": null,
   "metadata": {},
   "outputs": [],
   "source": [
    "# Cargamos la imagen\n",
    "img_orig = cv.imread('tapitas.jpg',0)\n",
    "#img_orig = cv.imread('chewbacca.jpg',0)\n",
    "\n",
    "# Aplicamos un suavizado Gaussiano de 5x5\n",
    "low_sigma = cv.GaussianBlur(img_orig, (5,5), sigmaX=1)\n",
    "high_sigma = cv.GaussianBlur(img_orig, (5,5),sigmaX=1.5)\n",
    "\n",
    "# Calculamos el DoG por sustracción\n",
    "dog = low_sigma - high_sigma\n",
    "\n",
    "# Aplico filtro de mediana para mejorar el resultado\n",
    "median = cv.medianBlur(dog, 5)\n",
    "\n",
    "# Mostramos la imagen\n",
    "out1 = cv.hconcat([img_orig, dog, median])\n",
    "cv.namedWindow(\"DoG\", 2)\n",
    "cv.imshow(\"DoG\",out1)"
   ]
  },
  {
   "attachments": {},
   "cell_type": "markdown",
   "metadata": {},
   "source": [
    "#### Unsharp masking"
   ]
  },
  {
   "cell_type": "code",
   "execution_count": null,
   "metadata": {},
   "outputs": [],
   "source": [
    "# Cargar la imagen (la carga como BGR)\n",
    "img_orig = cv.imread(\"chewbacca.jpg\")\n",
    "# La convertimos a RGB\n",
    "img_orig = cv.cvtColor(img_orig, cv.COLOR_BGR2RGB)\n",
    "# Suavizar la imagen\n",
    "gauss = cv.GaussianBlur(img_orig, (7,7), 0.5)\n",
    "# Aplicar la máscara de enfoque: \n",
    "# addWeighted calcula la suma pesada de dos arreglos según: dst(I)=saturate(src1(I)∗alpha+src2(I)∗beta+gamma)\n",
    "# parámetros: (src1(I),alpha,src2(I),beta,gamma)\n",
    "img_sharp = cv.addWeighted(img_orig, 2, gauss, -1, 0)\n",
    "\n",
    "# Más enfocada\n",
    "k=1.5\n",
    "img_sharp2 = cv.addWeighted(img_orig, k+1, gauss, -k, 0)\n",
    "\n",
    "# Re enfocada\n",
    "k=50\n",
    "img_sharp3 = cv.addWeighted(img_orig, k+1, gauss, -k, 0)\n",
    "\n",
    "\n",
    "# Nueva figura\n",
    "fig = plt.figure()\n",
    "\n",
    "ax1=plt.subplot(221)\n",
    "ax1.set_title('Original')\n",
    "ax1.imshow(img_orig)\n",
    "ax2=plt.subplot(222)\n",
    "ax2.set_title('Enfocada (k=1)')\n",
    "ax2.imshow(img_sharp)\n",
    "ax3=plt.subplot(223)\n",
    "ax3.set_title('Más enfocada (k=1.5)')\n",
    "ax3.imshow(img_sharp2)\n",
    "ax4=plt.subplot(224)\n",
    "ax4.set_title(f'Re enfocada {k}')\n",
    "ax4.imshow(img_sharp3)\n",
    "\n",
    "fig.show()"
   ]
  }
 ],
 "metadata": {
  "kernelspec": {
   "display_name": "Python 3.7.10 ('vision-robotica')",
   "language": "python",
   "name": "python3"
  },
  "language_info": {
   "codemirror_mode": {
    "name": "ipython",
    "version": 3
   },
   "file_extension": ".py",
   "mimetype": "text/x-python",
   "name": "python",
   "nbconvert_exporter": "python",
   "pygments_lexer": "ipython3",
   "version": "3.7.10"
  },
  "vscode": {
   "interpreter": {
    "hash": "0af437b5139b375ee3fab2b21e8a1376590e14b3c752e237587dc080bd8d5be3"
   }
  }
 },
 "nbformat": 4,
 "nbformat_minor": 4
}
