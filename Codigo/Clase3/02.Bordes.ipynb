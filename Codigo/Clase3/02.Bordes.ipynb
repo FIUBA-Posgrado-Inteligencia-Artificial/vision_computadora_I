{
 "cells": [
  {
   "attachments": {},
   "cell_type": "markdown",
   "metadata": {},
   "source": [
    "## Bordes"
   ]
  },
  {
   "attachments": {},
   "cell_type": "markdown",
   "metadata": {},
   "source": [
    "#### Detección de bordes"
   ]
  },
  {
   "cell_type": "code",
   "execution_count": 1,
   "metadata": {},
   "outputs": [
    {
     "name": "stdout",
     "output_type": "stream",
     "text": [
      "Using matplotlib backend: Qt5Agg\n"
     ]
    }
   ],
   "source": [
    "#Si queremos que las imágenes sean mostradas en una ventana emergente quitar el inline\n",
    "# %matplotlib inline\n",
    "%matplotlib\n",
    "\n",
    "# OpenCV-Python utiliza NumPy para el manejo de imágenes\n",
    "import numpy as np\n",
    "# cv2 es el módulo python para acceder a OpenCV \n",
    "import cv2 as cv\n",
    "# Usamos las poderosas herramientas de graficación de matplotlib para mostrar imágenes, perfiles, histogramas, etc\n",
    "import matplotlib.pyplot as plt\n",
    "# Importamos librerías para manejo de tiempo\n",
    "import time"
   ]
  },
  {
   "cell_type": "code",
   "execution_count": 2,
   "metadata": {},
   "outputs": [],
   "source": [
    "img = cv.imread('golazo.jpg',0)\n",
    "\n",
    "grises=False\n",
    "#grises=False\n",
    "if grises:\n",
    "    # En escala de grises\n",
    "    laplacian = cv.Laplacian(img, cv.CV_64F)\n",
    "    sobelx = cv.Sobel(img,cv.CV_64F,1,0,ksize=3)\n",
    "    sobely = cv.Sobel(img,cv.CV_64F,0,1,ksize=3)\n",
    "else:\n",
    "    # En blanco y negro\n",
    "    laplacian = cv.Laplacian(img,cv.CV_8U)\n",
    "    sobelx = cv.Sobel(img,cv.CV_8U,1,0,ksize=3)\n",
    "    sobely = cv.Sobel(img,cv.CV_8U,0,1,ksize=3)\n",
    "\n",
    "ax1=plt.subplot(2,2,1),plt.imshow(img,cmap = 'gray')\n",
    "plt.title('Original'), plt.xticks([]), plt.yticks([])\n",
    "ax2=plt.subplot(2,2,2),plt.imshow(laplacian,cmap = 'gray')\n",
    "plt.title('Laplaciano'), plt.xticks([]), plt.yticks([])\n",
    "ax3=plt.subplot(2,2,3),plt.imshow(sobelx,cmap = 'gray')\n",
    "plt.title('Sobel X'), plt.xticks([]), plt.yticks([])\n",
    "ax4=plt.subplot(2,2,4),plt.imshow(sobely,cmap = 'gray')\n",
    "plt.title('Sobel Y'), plt.xticks([]), plt.yticks([])\n",
    "\n",
    "plt.show()"
   ]
  },
  {
   "attachments": {},
   "cell_type": "markdown",
   "metadata": {},
   "source": [
    "#### Detector de Canny (a mano)"
   ]
  },
  {
   "cell_type": "code",
   "execution_count": null,
   "metadata": {},
   "outputs": [],
   "source": [
    "img = cv.imread('chewbacca.jpg')\n",
    "gray = cv.cvtColor(img, cv.COLOR_BGR2GRAY)\n",
    "\n",
    "# Suavizado Gaussiano\n",
    "#====================\n",
    "start = time.time()\n",
    "\n",
    "blur = cv.GaussianBlur(gray,(5,5),0)\n",
    "\n",
    "elapsed = time.time()-start\n",
    "print('Blur {} segundos'.format(elapsed))\n",
    "\n",
    "# Gradientes\n",
    "#===========\n",
    "start = time.time()\n",
    "\n",
    "# Aplicamos Sobelx en 'float32' y luego convertimos de nuevo a 8-bit para evitar overflow\n",
    "sobelx_64 = cv.Sobel(blur,cv.CV_32F,1,0,ksize=3)\n",
    "absx_64 = np.absolute(sobelx_64)\n",
    "sobelx_8u1 = absx_64/absx_64.max()*255\n",
    "sobelx_8u = np.uint8(sobelx_8u1)\n",
    "\n",
    "# De igual modo para Sobely\n",
    "sobely_64 = cv.Sobel(blur,cv.CV_32F,0,1,ksize=3)\n",
    "absy_64 = np.absolute(sobely_64)\n",
    "sobely_8u1 = absy_64/absy_64.max()*255\n",
    "sobely_8u = np.uint8(sobely_8u1)\n",
    "\n",
    "# De los gradiente calculamos Magnitud y lo pasamos a 8-bit (Opcional)\n",
    "mag = np.hypot(sobelx_8u, sobely_8u)\n",
    "mag = mag/mag.max()*255\n",
    "mag = np.uint8(mag)\n",
    "\n",
    "# Encontramos la Dirección y la pasamos a grados\n",
    "theta = np.arctan2(sobely_64, sobelx_64)\n",
    "angle = np.rad2deg(theta)\n",
    "\n",
    "elapsed = time.time()-start\n",
    "print('Gradientes {} segundos'.format(elapsed))\n",
    "\n",
    "# Supresión de no-máximos\n",
    "#========================\n",
    "start = time.time()\n",
    "\n",
    "# Encontramos los píxels vecinos (b,c) en la dirección (redondeadea) del gradiente y aplicamos la supresión de no-máximos\n",
    "M, N = mag.shape\n",
    "Non_max = np.zeros((M,N), dtype= np.uint8)\n",
    "\n",
    "for i in range(1,M-1):\n",
    "    for j in range(1,N-1):\n",
    "       # Horizontal 0\n",
    "        if (0 <= angle[i,j] < 22.5) or (157.5 <= angle[i,j] <= 180) or (-22.5 <= angle[i,j] < 0) or (-180 <= angle[i,j] < -157.5):\n",
    "            b = mag[i, j+1]\n",
    "            c = mag[i, j-1]\n",
    "        # Diagonal 45\n",
    "        elif (22.5 <= angle[i,j] < 67.5) or (-157.5 <= angle[i,j] < -112.5):\n",
    "            b = mag[i+1, j+1]\n",
    "            c = mag[i-1, j-1]\n",
    "        # Vertical 90\n",
    "        elif (67.5 <= angle[i,j] < 112.5) or (-112.5 <= angle[i,j] < -67.5):\n",
    "            b = mag[i+1, j]\n",
    "            c = mag[i-1, j]\n",
    "        # Diagonal 135\n",
    "        elif (112.5 <= angle[i,j] < 157.5) or (-67.5 <= angle[i,j] < -22.5):\n",
    "            b = mag[i+1, j-1]\n",
    "            c = mag[i-1, j+1]           \n",
    "            \n",
    "        # Supresión de no-máximos\n",
    "        if (mag[i,j] >= b) and (mag[i,j] >= c):\n",
    "            Non_max[i,j] = mag[i,j]\n",
    "        else:\n",
    "            Non_max[i,j] = 0\n",
    "\n",
    "elapsed = time.time()-start\n",
    "print('No-máximos {} segundos'.format(elapsed))\n",
    "\n",
    "# Umbralizado por histéresis\n",
    "#===========================\n",
    "start = time.time()\n",
    "\n",
    "UmbralAlto = 21\n",
    "UmbralBajo = 15\n",
    "\n",
    "M, N = Non_max.shape\n",
    "out = np.zeros((M,N), dtype= np.uint8)\n",
    "\n",
    "# Si la intensidad de un borde es mayor a 'UmbralAlto' es seguro un umbral, debajo de 'UmbralBajo' seguro no es\n",
    "strong_i, strong_j = np.where(Non_max >= UmbralAlto)\n",
    "zeros_i, zeros_j = np.where(Non_max < UmbralBajo)\n",
    "\n",
    "# Bordes débiles\n",
    "weak_i, weak_j = np.where((Non_max <= UmbralAlto) & (Non_max >= UmbralBajo))\n",
    "\n",
    "# Setear el mismo valor a todos los tipos de píxel\n",
    "out[strong_i, strong_j] = 255\n",
    "out[zeros_i, zeros_j ] = 0\n",
    "out[weak_i, weak_j] = 75\n",
    "\n",
    "elapsed = time.time()-start\n",
    "print('Histéresis {} segundos'.format(elapsed))\n",
    "\n",
    "# Armo la imagen de bordes\n",
    "#=========================\n",
    "start = time.time()\n",
    "M, N = out.shape\n",
    "for i in range(1, M-1):\n",
    "    for j in range(1, N-1):\n",
    "        if (out[i,j] == 75):\n",
    "            if 255 in [out[i+1, j-1],out[i+1, j],out[i+1, j+1],out[i, j-1],out[i, j+1],out[i-1, j-1],out[i-1, j],out[i-1, j+1]]:\n",
    "                out[i, j] = 255\n",
    "            else:\n",
    "                out[i, j] = 0\n",
    "\n",
    "elapsed = time.time()-start\n",
    "print('Armado imagen bordes {} segundos'.format(elapsed))\n",
    "\n",
    "# Muestro la imagen\n",
    "#==================\n",
    "cv.imshow(\"Canny\",out)"
   ]
  },
  {
   "attachments": {},
   "cell_type": "markdown",
   "metadata": {},
   "source": [
    "#### Detector de Canny con OpenCV"
   ]
  },
  {
   "cell_type": "code",
   "execution_count": 4,
   "metadata": {},
   "outputs": [
    {
     "name": "stdout",
     "output_type": "stream",
     "text": [
      "Tiempo de procesamiento 0.008007287979125977 segundos\n"
     ]
    }
   ],
   "source": [
    "# Cargo la imagen\n",
    "#================\n",
    "img = cv.imread('chewbacca.jpg')\n",
    "gray = cv.cvtColor(img, cv.COLOR_BGR2GRAY)\n",
    "\n",
    "# Aplico Canny\n",
    "#=============\n",
    "start = time.time()\n",
    "edges = cv.Canny(img, threshold1=5, threshold2=200)\n",
    "elapsed = time.time()-start\n",
    "print('Tiempo de procesamiento {} segundos'.format(elapsed))\n",
    "\n",
    "# Muestro la imagen\n",
    "#==================\n",
    "cv.imshow(\"CannyCV\",edges)"
   ]
  }
 ],
 "metadata": {
  "kernelspec": {
   "display_name": "Python 3.7.10 ('vision-robotica')",
   "language": "python",
   "name": "python3"
  },
  "language_info": {
   "codemirror_mode": {
    "name": "ipython",
    "version": 3
   },
   "file_extension": ".py",
   "mimetype": "text/x-python",
   "name": "python",
   "nbconvert_exporter": "python",
   "pygments_lexer": "ipython3",
   "version": "3.7.10"
  },
  "vscode": {
   "interpreter": {
    "hash": "0af437b5139b375ee3fab2b21e8a1376590e14b3c752e237587dc080bd8d5be3"
   }
  }
 },
 "nbformat": 4,
 "nbformat_minor": 4
}
