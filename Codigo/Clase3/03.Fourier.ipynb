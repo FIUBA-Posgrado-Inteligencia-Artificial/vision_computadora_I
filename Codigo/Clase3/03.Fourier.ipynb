{
 "cells": [
  {
   "cell_type": "code",
   "execution_count": 13,
   "metadata": {},
   "outputs": [
    {
     "name": "stdout",
     "output_type": "stream",
     "text": [
      "Using matplotlib backend: Qt5Agg\n"
     ]
    }
   ],
   "source": [
    "import numpy as np\n",
    "import cv2 as cv\n",
    "import matplotlib.pyplot as plt\n",
    "%matplotlib "
   ]
  },
  {
   "attachments": {},
   "cell_type": "markdown",
   "metadata": {},
   "source": [
    "## Transformada de Fourier en 2D\n",
    "Podemos interpretar los cambios de intensidad de la imagen como funciones sobre un plano"
   ]
  },
  {
   "attachments": {},
   "cell_type": "markdown",
   "metadata": {},
   "source": [
    "![SNOWFALL](fourier.png)"
   ]
  },
  {
   "cell_type": "code",
   "execution_count": 14,
   "metadata": {},
   "outputs": [],
   "source": [
    "# Leemos ambas imagenes\n",
    "img_low_freq = cv.imread('fft_hf.jpg', cv.IMREAD_GRAYSCALE)\n",
    "img_hig_freq = cv.imread('fft_lf.jpg', cv.IMREAD_GRAYSCALE)\n",
    "# Aplico la transformada\n",
    "img_fft_low = np.fft.fft2(img_low_freq)\n",
    "img_fft_hig = np.fft.fft2(img_hig_freq)\n",
    "# llevo la baja frec al origen para acomodar la visualizacion\n",
    "img_fft_low = np.fft.fftshift(img_fft_low)\n",
    "img_fft_hig = np.fft.fftshift(img_fft_hig)\n",
    "# obtengo el modulo\n",
    "img_fft_low = 20*np.log(np.abs(img_fft_low))\n",
    "img_fft_hig = 20*np.log(np.abs(img_fft_hig))\n",
    "# Tomamos un \"perfil\" de una fila por cada imagen\n",
    "low_freq_sg = img_low_freq[50,10:60]\n",
    "hig_freq_sg = img_hig_freq[50,10:60]"
   ]
  },
  {
   "attachments": {},
   "cell_type": "markdown",
   "metadata": {},
   "source": [
    "Graficamos los resultados"
   ]
  },
  {
   "cell_type": "code",
   "execution_count": 15,
   "metadata": {},
   "outputs": [
    {
     "data": {
      "text/plain": [
       "<matplotlib.image.AxesImage at 0x1426a8f38c8>"
      ]
     },
     "execution_count": 15,
     "metadata": {},
     "output_type": "execute_result"
    }
   ],
   "source": [
    "plt.figure(figsize=(12,12))\n",
    "plt.subplot(3,2,1)\n",
    "plt.imshow(img_low_freq, cmap='gray')\n",
    "plt.subplot(3,2,2)\n",
    "plt.imshow(img_hig_freq, cmap='gray')\n",
    "\n",
    "plt.subplot(3,2,3)\n",
    "plt.plot(low_freq_sg)\n",
    "plt.subplot(3,2,4)\n",
    "plt.plot(hig_freq_sg)\n",
    "\n",
    "plt.subplot(3,2,5)\n",
    "plt.imshow(img_fft_low, cmap='jet')\n",
    "plt.subplot(3,2,6)\n",
    "plt.imshow(img_fft_hig, cmap='jet')"
   ]
  },
  {
   "attachments": {},
   "cell_type": "markdown",
   "metadata": {},
   "source": [
    "## Filtros en el dominio espectral"
   ]
  },
  {
   "cell_type": "code",
   "execution_count": 16,
   "metadata": {},
   "outputs": [],
   "source": [
    "# funciones auxiliares\n",
    "def fft2_mod(image):\n",
    "\n",
    "  shifted_image_fft = np.fft.fftshift(np.fft.fft2(image))\n",
    "  return 20*np.log(np.abs(shifted_image_fft))\n",
    "\n",
    "\n",
    "def _filter_round_shape(height, width, radius):\n",
    "  canvas = np.zeros((height, width))\n",
    "  return cv.circle(canvas,\n",
    "                     center=(int(canvas.shape[1]/2), int(canvas.shape[0]/2)),\n",
    "                     radius=radius,\n",
    "                     color=(255),\n",
    "                     thickness=-1).astype(np.uint8)\n",
    "\n",
    "\n",
    "def create_lp_filter(height, width, radius=20):\n",
    "\n",
    "  lp_filter = _filter_round_shape(height, width, radius)\n",
    "  return lp_filter\n",
    "\n",
    "\n",
    "def create_hp_filter(height, width, radius=60):\n",
    "\n",
    "  lp_filter = _filter_round_shape(height, width, radius)\n",
    "  return cv.bitwise_not(lp_filter)"
   ]
  },
  {
   "cell_type": "code",
   "execution_count": 17,
   "metadata": {},
   "outputs": [],
   "source": [
    "# leo la imagen en escala de grises\n",
    "img = cv.imread('fft_alfa_pred.png', cv.IMREAD_GRAYSCALE)\n",
    "# obtengo el modulo de la transformada de fourier\n",
    "mod = fft2_mod(img)"
   ]
  },
  {
   "cell_type": "code",
   "execution_count": 18,
   "metadata": {},
   "outputs": [
    {
     "data": {
      "text/plain": [
       "<matplotlib.image.AxesImage at 0x14264b709c8>"
      ]
     },
     "execution_count": 18,
     "metadata": {},
     "output_type": "execute_result"
    }
   ],
   "source": [
    "plt.figure(figsize=(8,8))\n",
    "plt.subplot(1,2,1)\n",
    "plt.axis('off')\n",
    "plt.imshow(img, cmap='gray')\n",
    "plt.subplot(1,2,2)\n",
    "plt.axis('off')\n",
    "plt.imshow(mod, cmap='jet')"
   ]
  },
  {
   "attachments": {},
   "cell_type": "markdown",
   "metadata": {},
   "source": [
    "### Definimos los filtros en el dominio espectral"
   ]
  },
  {
   "cell_type": "code",
   "execution_count": 19,
   "metadata": {},
   "outputs": [
    {
     "data": {
      "text/plain": [
       "<matplotlib.image.AxesImage at 0x14264c2a3c8>"
      ]
     },
     "execution_count": 19,
     "metadata": {},
     "output_type": "execute_result"
    }
   ],
   "source": [
    "h, w = img.shape\n",
    "lp_filter = create_lp_filter(h, w, radius=40)\n",
    "hp_filter = create_hp_filter(h, w, radius=20)\n",
    "\n",
    "plt.figure(figsize=(8,8))\n",
    "plt.subplot(1,2,1)\n",
    "plt.imshow(lp_filter, cmap='gray')\n",
    "plt.title('Pasa bajos')\n",
    "plt.subplot(1,2,2)\n",
    "plt.title('Pasa altos')\n",
    "plt.imshow(hp_filter, cmap='gray')"
   ]
  },
  {
   "attachments": {},
   "cell_type": "markdown",
   "metadata": {},
   "source": [
    "### Aplicamos los filtros a la imagen"
   ]
  },
  {
   "cell_type": "code",
   "execution_count": 20,
   "metadata": {},
   "outputs": [],
   "source": [
    "# vuelvo a calcular la FFT. Para aplicar el filtro \n",
    "# necesito la transformada en modulo y fase en el dominio\n",
    "# de los numeros complejos\n",
    "shifted_fft = np.fft.fftshift(np.fft.fft2(img))\n",
    "lp_filtered = shifted_fft * lp_filter\n",
    "hp_filtered = shifted_fft * hp_filter\n",
    "\n",
    "# Aplicamos la antitransformada y obtenemos las imagenes filtradas\n",
    "f_ishift = np.fft.ifftshift(lp_filtered)\n",
    "img_lp = np.real(np.fft.ifft2(f_ishift))\n",
    "f_ishift = np.fft.ifftshift(hp_filtered)\n",
    "img_hp = np.real(np.fft.ifft2(f_ishift))"
   ]
  },
  {
   "attachments": {},
   "cell_type": "markdown",
   "metadata": {},
   "source": [
    "### Graficamos los resultados"
   ]
  },
  {
   "cell_type": "code",
   "execution_count": 21,
   "metadata": {},
   "outputs": [
    {
     "data": {
      "text/plain": [
       "<matplotlib.image.AxesImage at 0x1426a7a6888>"
      ]
     },
     "execution_count": 21,
     "metadata": {},
     "output_type": "execute_result"
    }
   ],
   "source": [
    "plt.figure(figsize=(8,8))\n",
    "plt.subplot(1,2,1)\n",
    "plt.imshow(img_lp, cmap='gray')\n",
    "plt.title('Pasa bajos - Blur o desenfoque')\n",
    "plt.subplot(1,2,2)\n",
    "plt.title('Pasa altos - Realce de bordes')\n",
    "plt.imshow(img_hp, cmap='gray')"
   ]
  },
  {
   "cell_type": "code",
   "execution_count": 22,
   "metadata": {},
   "outputs": [],
   "source": [
    "def create_gauss_filter(h, w, k_size=5, sigma=5):"
   ]
  },
  {
   "cell_type": "code",
   "execution_count": 23,
   "metadata": {},
   "outputs": [
    {
     "data": {
      "text/plain": [
       "<matplotlib.image.AxesImage at 0x1426937c988>"
      ]
     },
     "execution_count": 23,
     "metadata": {},
     "output_type": "execute_result"
    }
   ],
   "source": [
    "kernel, kernel_tf = create_gauss_filter(h, w, k_size=15, sigma=2)\n",
    "\n",
    "plt.figure(figsize=(12,12))\n",
    "plt.subplot(1,2,1)\n",
    "plt.axis('off')\n",
    "plt.title(\"Kernel Gausiano\")\n",
    "plt.imshow(kernel, cmap='jet')\n",
    "plt.subplot(1,2,2)\n",
    "plt.axis('off')\n",
    "plt.title(\"FFT del kernel\")\n",
    "tf_shifted = np.fft.fftshift(kernel_tf)\n",
    "plt.imshow(np.abs(tf_shifted), cmap='jet')"
   ]
  },
  {
   "cell_type": "code",
   "execution_count": 24,
   "metadata": {},
   "outputs": [
    {
     "data": {
      "text/plain": [
       "Text(0.5, 1.0, 'Desenfoque gausiano')"
      ]
     },
     "execution_count": 24,
     "metadata": {},
     "output_type": "execute_result"
    }
   ],
   "source": [
    "img_fft = np.fft.fft2(img)\n",
    "filtered = img_fft * kernel_tf\n",
    "\n",
    "img_gauss = np.fft.ifftshift(np.real(np.fft.ifft2(filtered)))\n",
    "\n",
    "plt.figure(figsize=(8,8))\n",
    "plt.imshow(img_gauss, cmap='gray')\n",
    "plt.title('Desenfoque gausiano')"
   ]
  }
 ],
 "metadata": {
  "kernelspec": {
   "display_name": "Python 3.7.10 ('vision-robotica')",
   "language": "python",
   "name": "python3"
  },
  "language_info": {
   "codemirror_mode": {
    "name": "ipython",
    "version": 3
   },
   "file_extension": ".py",
   "mimetype": "text/x-python",
   "name": "python",
   "nbconvert_exporter": "python",
   "pygments_lexer": "ipython3",
   "version": "3.7.10"
  },
  "orig_nbformat": 4,
  "vscode": {
   "interpreter": {
    "hash": "0af437b5139b375ee3fab2b21e8a1376590e14b3c752e237587dc080bd8d5be3"
   }
  }
 },
 "nbformat": 4,
 "nbformat_minor": 2
}
