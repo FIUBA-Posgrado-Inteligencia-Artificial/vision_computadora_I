{
 "cells": [
  {
   "cell_type": "code",
   "execution_count": 1,
   "metadata": {},
   "outputs": [],
   "source": [
    "import numpy as np\n",
    "import cv2 as cv\n",
    "import matplotlib.pyplot as plt\n",
    "%matplotlib qt"
   ]
  },
  {
   "attachments": {},
   "cell_type": "markdown",
   "metadata": {},
   "source": [
    "## Transformada de Fourier en 2D\n",
    "Podemos interpretar los cambios de intensidad de la imagen como funciones sobre un plano"
   ]
  },
  {
   "cell_type": "markdown",
   "metadata": {},
   "source": [
    "![SNOWFALL](SingleHarmonic.gif)"
   ]
  },
  {
   "attachments": {},
   "cell_type": "markdown",
   "metadata": {},
   "source": [
    "![SNOWFALL](fourier.png)"
   ]
  },
  {
   "cell_type": "code",
   "execution_count": 9,
   "metadata": {},
   "outputs": [],
   "source": [
    "# Leemos ambas imagenes\n",
    "img_low_freq = cv.imread('fft_lf.jpg', cv.IMREAD_GRAYSCALE)\n",
    "img_hig_freq = cv.imread('fft_hf.jpg', cv.IMREAD_GRAYSCALE)\n",
    "# Aplico la transformada\n",
    "img_fft_low = np.fft.fft2(img_low_freq)\n",
    "img_fft_hig = np.fft.fft2(img_hig_freq)\n",
    "# llevo la baja frec al origen para acomodar la visualizacion\n",
    "img_fft_low = np.fft.fftshift(img_fft_low)\n",
    "img_fft_hig = np.fft.fftshift(img_fft_hig)\n",
    "# obtengo el modulo\n",
    "img_fft_low = 20*np.log(np.abs(img_fft_low))\n",
    "img_fft_hig = 20*np.log(np.abs(img_fft_hig))\n",
    "# Tomamos un \"perfil\" de una fila por cada imagen\n",
    "low_freq_sg = img_low_freq[50,10:60]\n",
    "hig_freq_sg = img_hig_freq[50,10:60]"
   ]
  },
  {
   "attachments": {},
   "cell_type": "markdown",
   "metadata": {},
   "source": [
    "Graficamos los resultados"
   ]
  },
  {
   "cell_type": "code",
   "execution_count": 6,
   "metadata": {},
   "outputs": [],
   "source": [
    "# Crear figura con tamaño personalizado\n",
    "plt.figure(figsize=(12, 18))\n",
    "\n",
    "# Definir la rejilla de subtramas con 'gridspec'\n",
    "gs = plt.GridSpec(3, 2, height_ratios=[1, 1, 2])  # Ajustamos la altura de las filas\n",
    "\n",
    "# Primera fila de imágenes\n",
    "plt.subplot(gs[0, 0])\n",
    "plt.imshow(img_low_freq, cmap='gray')\n",
    "plt.title('Imagen Baja Frecuencia')\n",
    "\n",
    "plt.subplot(gs[0, 1])\n",
    "plt.imshow(img_hig_freq, cmap='gray')\n",
    "plt.title('Imagen Alta Frecuencia')\n",
    "\n",
    "# Segunda fila de gráficos de líneas\n",
    "plt.subplot(gs[1, 0])\n",
    "plt.plot(low_freq_sg)\n",
    "plt.title('Señal Baja Frecuencia')\n",
    "\n",
    "plt.subplot(gs[1, 1])\n",
    "plt.plot(hig_freq_sg)\n",
    "plt.title('Señal Alta Frecuencia')\n",
    "\n",
    "# Tercera fila de imágenes FFT (con mayor tamaño)\n",
    "plt.subplot(gs[2, 0])\n",
    "plt.imshow(img_fft_low, cmap='jet')\n",
    "plt.title('FFT Baja Frecuencia')\n",
    "\n",
    "plt.subplot(gs[2, 1])\n",
    "plt.imshow(img_fft_hig, cmap='jet')\n",
    "plt.title('FFT Alta Frecuencia')\n",
    "\n",
    "# Mostrar la figura\n",
    "plt.tight_layout()\n",
    "plt.show()"
   ]
  },
  {
   "attachments": {},
   "cell_type": "markdown",
   "metadata": {},
   "source": [
    "## Filtros en el dominio espectral"
   ]
  },
  {
   "cell_type": "code",
   "execution_count": 2,
   "metadata": {},
   "outputs": [],
   "source": [
    "# funciones auxiliares\n",
    "def fft2_mod(image):\n",
    "\n",
    "  shifted_image_fft = np.fft.fftshift(np.fft.fft2(image))\n",
    "\n",
    "  return 20*np.log(np.abs(shifted_image_fft))\n",
    "\n",
    "\n",
    "def _filter_round_shape(height, width, radius):\n",
    "  canvas = np.zeros((height, width))\n",
    "  return cv.circle(canvas,\n",
    "                     center=(int(canvas.shape[1]/2), int(canvas.shape[0]/2)),\n",
    "                     radius=radius,\n",
    "                     color=(255),\n",
    "                     thickness=-1).astype(np.uint8)\n",
    "\n",
    "\n",
    "def create_lp_filter(height, width, radius=20):\n",
    "\n",
    "  lp_filter = _filter_round_shape(height, width, radius)\n",
    "  return lp_filter\n",
    "\n",
    "\n",
    "def create_hp_filter(height, width, radius=60):\n",
    "\n",
    "  lp_filter = _filter_round_shape(height, width, radius)\n",
    "  return cv.bitwise_not(lp_filter)"
   ]
  },
  {
   "cell_type": "code",
   "execution_count": 3,
   "metadata": {},
   "outputs": [],
   "source": [
    "# leo la imagen en escala de grises\n",
    "img = cv.imread('fft_alfa_pred.png', cv.IMREAD_GRAYSCALE)\n",
    "# obtengo el modulo de la transformada de fourier\n",
    "mod = fft2_mod(img)"
   ]
  },
  {
   "cell_type": "code",
   "execution_count": 4,
   "metadata": {},
   "outputs": [
    {
     "data": {
      "text/plain": [
       "<matplotlib.image.AxesImage at 0x2233e6b31c8>"
      ]
     },
     "execution_count": 4,
     "metadata": {},
     "output_type": "execute_result"
    }
   ],
   "source": [
    "plt.figure(figsize=(8,8))\n",
    "plt.subplot(1,2,1)\n",
    "plt.axis('off')\n",
    "plt.imshow(img, cmap='gray')\n",
    "plt.subplot(1,2,2)\n",
    "plt.axis('off')\n",
    "plt.imshow(mod, cmap='jet')"
   ]
  },
  {
   "attachments": {},
   "cell_type": "markdown",
   "metadata": {},
   "source": [
    "### Definimos los filtros en el dominio espectral"
   ]
  },
  {
   "cell_type": "code",
   "execution_count": 8,
   "metadata": {},
   "outputs": [
    {
     "data": {
      "text/plain": [
       "<matplotlib.image.AxesImage at 0x2233f3aae88>"
      ]
     },
     "execution_count": 8,
     "metadata": {},
     "output_type": "execute_result"
    }
   ],
   "source": [
    "h, w = img.shape\n",
    "lp_filter = create_lp_filter(h, w, radius=40)\n",
    "hp_filter = create_hp_filter(h, w, radius=20)\n",
    "\n",
    "plt.figure(figsize=(8,8))\n",
    "plt.subplot(1,2,1)\n",
    "plt.imshow(lp_filter, cmap='gray')\n",
    "plt.title('Pasa bajos')\n",
    "plt.subplot(1,2,2)\n",
    "plt.title('Pasa altos')\n",
    "plt.imshow(hp_filter, cmap='gray')"
   ]
  },
  {
   "attachments": {},
   "cell_type": "markdown",
   "metadata": {},
   "source": [
    "### Aplicamos los filtros a la imagen"
   ]
  },
  {
   "cell_type": "code",
   "execution_count": 6,
   "metadata": {},
   "outputs": [],
   "source": [
    "# vuelvo a calcular la FFT. Para aplicar el filtro \n",
    "# necesito la transformada en modulo y fase en el dominio\n",
    "# de los numeros complejos\n",
    "shifted_fft = np.fft.fftshift(np.fft.fft2(img))\n",
    "lp_filtered = shifted_fft * lp_filter\n",
    "hp_filtered = shifted_fft * hp_filter\n",
    "\n",
    "# Aplicamos la antitransformada y obtenemos las imagenes filtradas\n",
    "f_ishift = np.fft.ifftshift(lp_filtered)\n",
    "img_lp = np.real(np.fft.ifft2(f_ishift))\n",
    "f_ishift = np.fft.ifftshift(hp_filtered)\n",
    "img_hp = np.real(np.fft.ifft2(f_ishift))"
   ]
  },
  {
   "attachments": {},
   "cell_type": "markdown",
   "metadata": {},
   "source": [
    "### Graficamos los resultados"
   ]
  },
  {
   "cell_type": "code",
   "execution_count": 7,
   "metadata": {},
   "outputs": [
    {
     "data": {
      "text/plain": [
       "<matplotlib.image.AxesImage at 0x2233f2a49c8>"
      ]
     },
     "execution_count": 7,
     "metadata": {},
     "output_type": "execute_result"
    }
   ],
   "source": [
    "plt.figure(figsize=(8,8))\n",
    "plt.subplot(1,2,1)\n",
    "plt.imshow(img_lp, cmap='gray')\n",
    "plt.title('Pasa bajos - Blur o desenfoque')\n",
    "plt.subplot(1,2,2)\n",
    "plt.title('Pasa altos - Realce de bordes')\n",
    "plt.imshow(img_hp, cmap='gray')"
   ]
  },
  {
   "cell_type": "code",
   "execution_count": 10,
   "metadata": {},
   "outputs": [],
   "source": [
    "def create_gauss_filter(h, w, k_size=5, sigma=5):\n",
    "        \n",
    "    # Genero el kernel gaussiano\n",
    "    kernel = np.zeros((h, w))\n",
    "    \n",
    "    kernel_1d = cv.getGaussianKernel(k_size, sigma)\n",
    "    kernel_2d = kernel_1d * kernel_1d.T\n",
    "    \n",
    "    h_ini = (h-k_size)//2\n",
    "    w_ini = (w-k_size)//2\n",
    "    \n",
    "    kernel[h_ini:h_ini+k_size,w_ini:w_ini+k_size] = kernel_2d\n",
    "   \n",
    "    # Obtengo la transformada de Fourier\n",
    "    kernel_tf = np.fft.fft2(kernel)\n",
    "    \n",
    "    return kernel, kernel_tf "
   ]
  },
  {
   "cell_type": "code",
   "execution_count": 11,
   "metadata": {},
   "outputs": [
    {
     "data": {
      "text/plain": [
       "<matplotlib.image.AxesImage at 0x2233f32ed48>"
      ]
     },
     "execution_count": 11,
     "metadata": {},
     "output_type": "execute_result"
    }
   ],
   "source": [
    "kernel, kernel_tf = create_gauss_filter(h, w, k_size=15, sigma=2)\n",
    "\n",
    "plt.figure(figsize=(12,12))\n",
    "plt.subplot(1,2,1)\n",
    "plt.axis('off')\n",
    "plt.title(\"Kernel Gausiano\")\n",
    "plt.imshow(kernel, cmap='jet')\n",
    "plt.subplot(1,2,2)\n",
    "plt.axis('off')\n",
    "plt.title(\"FFT del kernel\") \n",
    "tf_shifted = np.fft.fftshift(kernel_tf)\n",
    "plt.imshow(np.abs(tf_shifted), cmap='jet')"
   ]
  },
  {
   "cell_type": "code",
   "execution_count": 12,
   "metadata": {},
   "outputs": [
    {
     "data": {
      "text/plain": [
       "Text(0.5, 1.0, 'Desenfoque gausiano')"
      ]
     },
     "execution_count": 12,
     "metadata": {},
     "output_type": "execute_result"
    }
   ],
   "source": [
    "img_fft = np.fft.fft2(img)\n",
    "filtered = img_fft * kernel_tf\n",
    "\n",
    "img_gauss = np.fft.ifftshift(np.real(np.fft.ifft2(filtered)))\n",
    "\n",
    "plt.figure(figsize=(8,8))\n",
    "plt.imshow(img_gauss, cmap='gray')\n",
    "plt.title('Desenfoque gausiano')"
   ]
  }
 ],
 "metadata": {
  "kernelspec": {
   "display_name": "Python 3",
   "language": "python",
   "name": "python3"
  },
  "language_info": {
   "codemirror_mode": {
    "name": "ipython",
    "version": 3
   },
   "file_extension": ".py",
   "mimetype": "text/x-python",
   "name": "python",
   "nbconvert_exporter": "python",
   "pygments_lexer": "ipython3",
   "version": "3.7.10"
  },
  "orig_nbformat": 4
 },
 "nbformat": 4,
 "nbformat_minor": 2
}
