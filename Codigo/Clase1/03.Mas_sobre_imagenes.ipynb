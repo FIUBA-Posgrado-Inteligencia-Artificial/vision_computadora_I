{
 "cells": [
  {
   "cell_type": "markdown",
   "metadata": {},
   "source": [
    "# Acceso a los datos de la imagen\n"
   ]
  },
  {
   "cell_type": "code",
   "execution_count": 1,
   "metadata": {},
   "outputs": [
    {
     "name": "stdout",
     "output_type": "stream",
     "text": [
      "Using matplotlib backend: Qt5Agg\n"
     ]
    }
   ],
   "source": [
    "#Si queremos que las imágenes sean mostradas en una ventana emergente quitar el inline\n",
    "%matplotlib \n",
    "\n",
    "# OpenCV-Python utiliza NumPy para el manejo de imágenes\n",
    "import numpy as np\n",
    "# cv2 es el módulo python para acceder a OpenCV \n",
    "import cv2 as cv\n",
    "# Usamos las poderosas herramientas de graficación de matplotlib para mostrar imágenes, perfiles, histogramas, etc\n",
    "import matplotlib.pyplot as plt\n"
   ]
  },
  {
   "cell_type": "code",
   "execution_count": 2,
   "metadata": {},
   "outputs": [
    {
     "name": "stdout",
     "output_type": "stream",
     "text": [
      "Estructura de la imagen: (480, 640, 3)\n",
      "Cantidad total de pixeles: 921600\n",
      "Tipo de dato de cada pixel: uint8\n",
      "Imagen COLOR\n"
     ]
    }
   ],
   "source": [
    "img = cv.imread('imgBloque1.bmp')\n",
    "\n",
    "# Muestro información de la imagen cargada\n",
    "print('Estructura de la imagen: {}'.format(img.shape))\n",
    "print('Cantidad total de pixeles: {}'.format(img.size))\n",
    "print('Tipo de dato de cada pixel: {}'.format(img.dtype))\n",
    "\n",
    "if len(img.shape)==3:\n",
    "    print('Imagen COLOR')\n",
    "else:\n",
    "    print('Imagen BW')\n",
    "    "
   ]
  },
  {
   "cell_type": "code",
   "execution_count": 3,
   "metadata": {},
   "outputs": [
    {
     "name": "stdout",
     "output_type": "stream",
     "text": [
      "Color del pixel [150,300] = [160 192 192]\n",
      "Luego de cambiar el azul a 10 = [ 10 192 192]\n"
     ]
    }
   ],
   "source": [
    "u = 150\n",
    "v = 300\n",
    "pix = img[u,v,:]\n",
    "print('Color del pixel [{},{}] = {}'.format(u,v,pix))\n",
    "img[u,v,0] = 10\n",
    "print('Luego de cambiar el azul a 10 = {}'.format(pix))"
   ]
  },
  {
   "cell_type": "markdown",
   "metadata": {},
   "source": [
    "ROI: Region of Interest (Region de Interes)"
   ]
  },
  {
   "cell_type": "code",
   "execution_count": 4,
   "metadata": {},
   "outputs": [],
   "source": [
    "# ROI\n",
    "img_roi = img[20:450, 100:500,:]\n",
    "\n",
    "# Modifiquemos la imagen de la zona de interés\n",
    "cv.circle(img_roi, (250, 100), 10, (0, 0, 255), 1 , cv.LINE_AA)\n",
    "plt.figure(1)\n",
    "plt.imshow(img_roi[:,:,::-1])\n",
    "plt.title('Modificacion sobre la ROI')\n",
    "\n",
    "# Qué habrá pasado con la imagen original ??\n",
    "plt.figure(2)\n",
    "plt.imshow(img[:,:,::-1])\n",
    "plt.title('Figura original')\n",
    "plt.show()"
   ]
  },
  {
   "cell_type": "code",
   "execution_count": 5,
   "metadata": {},
   "outputs": [
    {
     "name": "stdout",
     "output_type": "stream",
     "text": [
      "Tamaño de las imagenes con borde (560, 720)\n"
     ]
    }
   ],
   "source": [
    "# Padding\n",
    "# Es un recuadro que agregamos a la imagen. Se aplica en filtros convolucionales y en la mayoria de los modelos de deep learning\n",
    "a = 40\n",
    "img1 = cv.cvtColor(img,cv.COLOR_BGR2GRAY)\n",
    "replicate = cv.copyMakeBorder(img1, a, a, a, a, cv.BORDER_REPLICATE)\n",
    "reflect = cv.copyMakeBorder(img1, a, a, a, a, cv.BORDER_REFLECT)\n",
    "reflect101 = cv.copyMakeBorder(img1, a, a, a, a, cv.BORDER_REFLECT_101)\n",
    "wrap = cv.copyMakeBorder(img1, a, a, a, a, cv.BORDER_WRAP)\n",
    "constant= cv.copyMakeBorder(img1, a, a, a, a, cv.BORDER_CONSTANT, value=255)\n",
    "\n",
    "print('Tamaño de las imagenes con borde {}'.format(replicate.shape))\n",
    "\n",
    "plt.close(3)\n",
    "plt.figure(3)\n",
    "plt.subplot(231),plt.imshow(img1,'gray'),plt.title('ORIGINAL')\n",
    "plt.subplot(232),plt.imshow(replicate,'gray'),plt.title('REPLICATE')\n",
    "plt.subplot(233),plt.imshow(reflect,'gray'),plt.title('REFLECT')\n",
    "plt.subplot(234),plt.imshow(reflect101,'gray'),plt.title('REFLECT_101')\n",
    "plt.subplot(235),plt.imshow(wrap,'gray'),plt.title('WRAP')\n",
    "plt.subplot(236),plt.imshow(constant,'gray'),plt.title('CONSTANT')\n",
    "plt.show()"
   ]
  }
 ],
 "metadata": {
  "kernelspec": {
   "display_name": "Python 3.7.10 ('vision-robotica')",
   "language": "python",
   "name": "python3"
  },
  "language_info": {
   "codemirror_mode": {
    "name": "ipython",
    "version": 3
   },
   "file_extension": ".py",
   "mimetype": "text/x-python",
   "name": "python",
   "nbconvert_exporter": "python",
   "pygments_lexer": "ipython3",
   "version": "3.7.10 (default, Feb 26 2021, 13:06:18) [MSC v.1916 64 bit (AMD64)]"
  },
  "vscode": {
   "interpreter": {
    "hash": "0af437b5139b375ee3fab2b21e8a1376590e14b3c752e237587dc080bd8d5be3"
   }
  }
 },
 "nbformat": 4,
 "nbformat_minor": 2
}
