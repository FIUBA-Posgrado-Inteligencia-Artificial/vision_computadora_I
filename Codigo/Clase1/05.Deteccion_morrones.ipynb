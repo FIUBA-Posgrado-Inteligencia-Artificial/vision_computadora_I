{
 "cells": [
  {
   "cell_type": "markdown",
   "metadata": {
    "slideshow": {
     "slide_type": "slide"
    }
   },
   "source": [
    "# Ejercitación espacios de color\n",
    "\n",
    "Segmentación por color"
   ]
  },
  {
   "cell_type": "code",
   "execution_count": 2,
   "metadata": {},
   "outputs": [
    {
     "name": "stdout",
     "output_type": "stream",
     "text": [
      "Using matplotlib backend: Qt5Agg\n"
     ]
    }
   ],
   "source": [
    "#Si queremos que las imágenes sean mostradas en una ventana emergente quitar el inline\n",
    "%matplotlib\n",
    "\n",
    "import numpy as np\n",
    "import cv2 as cv\n",
    "import matplotlib.pyplot as plt"
   ]
  },
  {
   "cell_type": "code",
   "execution_count": 3,
   "metadata": {},
   "outputs": [],
   "source": [
    "# Cargar la imagen color\n",
    "img_color = cv.imread('pimiento_morron.jpg')\n",
    "imgRGB = cv.cvtColor(img_color, cv.COLOR_BGR2RGB)\n",
    "\n",
    "plt.figure(1)\n",
    "plt.imshow(imgRGB)\n",
    "plt.show()"
   ]
  },
  {
   "cell_type": "code",
   "execution_count": 4,
   "metadata": {},
   "outputs": [],
   "source": [
    "# Tomamos una muestra del morron amarillo\n",
    "img_muestra = imgRGB[230:280, 230:280,:]\n",
    "plt.figure(2)\n",
    "plt.imshow(img_muestra)\n",
    "plt.show()"
   ]
  },
  {
   "cell_type": "code",
   "execution_count": 5,
   "metadata": {},
   "outputs": [
    {
     "name": "stdout",
     "output_type": "stream",
     "text": [
      "[213.66680000000002, 132.0952, 21.5452]\n",
      "[16.6917398062632, 12.949460875264354, 15.321121269672139]\n"
     ]
    }
   ],
   "source": [
    "# Calculamos un modelo estadístico sencillo para caracterizar el color del morrón rojo en el espacio RGB\n",
    "color_mean, color_std = cv.meanStdDev(img_muestra)\n",
    "print(color_mean.flatten().tolist())\n",
    "print(color_std.flatten().tolist())"
   ]
  },
  {
   "cell_type": "code",
   "execution_count": 6,
   "metadata": {},
   "outputs": [
    {
     "data": {
      "text/plain": [
       "<function matplotlib.pyplot.show(*, block=None)>"
      ]
     },
     "execution_count": 6,
     "metadata": {},
     "output_type": "execute_result"
    }
   ],
   "source": [
    "# Pintemos de blanco los puntos que estén cerca de la media en un radio menor que 3 sigmas\n",
    "# para ¨capturar¨ el 99.7 % de pixeles.\n",
    "n_sigma = 3\n",
    "mask = cv.inRange(imgRGB, color_mean-color_std * n_sigma,  color_mean+color_std * n_sigma)\n",
    "img_segmentada = cv.bitwise_and(imgRGB, imgRGB, mask=mask)\n",
    "\n",
    "plt.figure(3)\n",
    "plt.imshow(img_segmentada)\n",
    "plt.show()\n",
    "\n",
    "plt.figure(4)\n",
    "plt.imshow(mask,cmap='gray')\n",
    "plt.show"
   ]
  },
  {
   "attachments": {},
   "cell_type": "markdown",
   "metadata": {},
   "source": [
    "Veamos la distribucion de colores"
   ]
  },
  {
   "cell_type": "code",
   "execution_count": 7,
   "metadata": {},
   "outputs": [],
   "source": [
    "from mpl_toolkits.mplot3d import Axes3D\n",
    "from matplotlib import cm\n",
    "from matplotlib import colors\n",
    "\n",
    "img_HSV = cv.cvtColor(img_color, cv.COLOR_BGR2HSV)\n",
    "c1, c2, c3 = cv.split(img_HSV)\n",
    "\n",
    "# c1, c2, c3 = cv.split(imgRGB)\n",
    "\n",
    "fig = plt.figure()\n",
    "axis = fig.add_subplot(1, 1, 1, projection=\"3d\")\n",
    "\n",
    "pixel_colors = imgRGB.reshape((np.shape(imgRGB)[0]*np.shape(imgRGB)[1], 3))\n",
    "norm = colors.Normalize(vmin=-1.,vmax=1.)\n",
    "norm.autoscale(pixel_colors)\n",
    "pixel_colors = norm(pixel_colors).tolist()\n",
    "\n",
    "axis.scatter(c1.flatten(), c2.flatten(), c3.flatten(), facecolors=pixel_colors, marker=\".\")\n",
    "axis.set_xlabel(\"Canal 1\")\n",
    "axis.set_ylabel(\"Canal 2\")\n",
    "axis.set_zlabel(\"Canal 3\")\n",
    "plt.show()"
   ]
  },
  {
   "cell_type": "code",
   "execution_count": null,
   "metadata": {},
   "outputs": [],
   "source": [
    "# Pasamos la imagen a HSV y calculo el color de muestra\n",
    "\n",
    "img_HSV = cv.cvtColor(img_color, cv.COLOR_BGR2HSV)\n",
    "plt.figure(5)\n",
    "plt.imshow(img_HSV)\n",
    "\n",
    "#img_muestra = img_HSV[100:150,325:375,:]\n",
    "img_muestra_hsv = img_HSV[230:280,230:280,:]\n",
    "\n",
    "# Calculamos un modelo estadístico sencillo para caracterizar el color del morrón rojo en el espacio RGB\n",
    "color_mean = cv.mean(img_muestra_hsv)\n",
    "    \n",
    "print(color_mean)"
   ]
  },
  {
   "cell_type": "code",
   "execution_count": null,
   "metadata": {},
   "outputs": [],
   "source": [
    "color_l = (14,100,100)\n",
    "color_u = (24,255,255)\n",
    "\n",
    "mask = cv.inRange(img_HSV, color_l,  color_u)\n",
    "img_segmentada = cv.bitwise_and(imgRGB, imgRGB, mask=mask)\n",
    "\n",
    "plt.figure(6)\n",
    "plt.imshow(img_segmentada)\n",
    "plt.show()"
   ]
  }
 ],
 "metadata": {
  "kernelspec": {
   "display_name": "Python 3.7.10 ('vision-robotica')",
   "language": "python",
   "name": "python3"
  },
  "language_info": {
   "codemirror_mode": {
    "name": "ipython",
    "version": 3
   },
   "file_extension": ".py",
   "mimetype": "text/x-python",
   "name": "python",
   "nbconvert_exporter": "python",
   "pygments_lexer": "ipython3",
   "version": "3.7.10"
  },
  "vscode": {
   "interpreter": {
    "hash": "0af437b5139b375ee3fab2b21e8a1376590e14b3c752e237587dc080bd8d5be3"
   }
  }
 },
 "nbformat": 4,
 "nbformat_minor": 2
}
