{
 "cells": [
  {
   "cell_type": "markdown",
   "metadata": {},
   "source": [
    "# Operaciones en imágenes\n",
    "\n",
    "Veremos operaciones ariméticas y lógicas"
   ]
  },
  {
   "cell_type": "code",
   "execution_count": null,
   "metadata": {},
   "outputs": [],
   "source": [
    "%matplotlib inline\n",
    "\n",
    "import numpy as np\n",
    "import cv2 as cv\n",
    "import matplotlib.pyplot as plt"
   ]
  },
  {
   "cell_type": "code",
   "execution_count": null,
   "metadata": {},
   "outputs": [],
   "source": [
    "# Cargo las imágenes de ejemplo\n",
    "img1 = cv.imread('imgBloque1.bmp', cv.IMREAD_GRAYSCALE)\n",
    "img2 = cv.imread('imgBloque2.bmp', cv.IMREAD_GRAYSCALE)\n",
    "\n",
    "plt.imshow(img1,cmap='gray')\n",
    "plt.show()\n",
    "plt.imshow(img2,cmap='gray')\n",
    "plt.show()\n"
   ]
  },
  {
   "cell_type": "code",
   "execution_count": null,
   "metadata": {},
   "outputs": [],
   "source": [
    "# Suma de imágenes\n",
    "img_suma = img1 + img2\n",
    "plt.imshow(img_suma, cmap='gray')"
   ]
  },
  {
   "cell_type": "code",
   "execution_count": null,
   "metadata": {},
   "outputs": [],
   "source": [
    "# Suma de imágenes\n",
    "img_suma = cv.add(img1, img2)\n",
    "\n",
    "plt.imshow(img_suma, cmap='gray')\n",
    "plt.show()\n",
    "\n",
    "# Explicar la diferencia !"
   ]
  },
  {
   "cell_type": "markdown",
   "metadata": {},
   "source": [
    "Podemos crear una transición suave entre imagenes sumandolas con distinto peso"
   ]
  },
  {
   "cell_type": "code",
   "execution_count": null,
   "metadata": {},
   "outputs": [],
   "source": [
    "# Sumar con distinto peso\n",
    "alpha = 0.2\n",
    "img_suma = cv.addWeighted(img1, alpha, img2, 1-alpha, 0)\n",
    "\n",
    "plt.imshow(img_suma,cmap='gray')\n",
    "plt.show()\n",
    "\n",
    "# Respetando la ecuación propuesta, dará siempre el mismo resultado si usamos la suma de Numpy ?\n",
    "#aa = img1*alpha+img2*(1-alpha)\n",
    "#plt.imshow(aa, cmap='gray')\n",
    "#plt.show()"
   ]
  },
  {
   "cell_type": "code",
   "execution_count": null,
   "metadata": {},
   "outputs": [],
   "source": [
    "# Operaciones lógicas\n",
    "\n",
    "mask = np.zeros(img1.shape, dtype=np.uint8)\n",
    "mask[100:200, 100:450] = 255 # 0xFF\n",
    "img3 = cv.bitwise_and(img1, mask)\n",
    "\n",
    "plt.imshow(img3, cmap='gray')\n",
    "plt.show()\n",
    "\n",
    "img3 = cv.bitwise_or(img1, mask)\n",
    "plt.imshow(img3,cmap='gray')\n",
    "plt.show()\n"
   ]
  }
 ],
 "metadata": {
  "kernelspec": {
   "display_name": "Python 3.7.10 ('vision-robotica')",
   "language": "python",
   "name": "python3"
  },
  "language_info": {
   "codemirror_mode": {
    "name": "ipython",
    "version": 3
   },
   "file_extension": ".py",
   "mimetype": "text/x-python",
   "name": "python",
   "nbconvert_exporter": "python",
   "pygments_lexer": "ipython3",
   "version": "3.7.10"
  },
  "vscode": {
   "interpreter": {
    "hash": "0af437b5139b375ee3fab2b21e8a1376590e14b3c752e237587dc080bd8d5be3"
   }
  }
 },
 "nbformat": 4,
 "nbformat_minor": 2
}
