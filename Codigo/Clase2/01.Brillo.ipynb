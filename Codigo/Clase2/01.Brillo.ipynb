{
 "cells": [
  {
   "attachments": {},
   "cell_type": "markdown",
   "metadata": {},
   "source": [
    "# Operadores de píxel\n",
    "\n",
    "Brillo\n",
    "Contraste\n",
    "Gamma"
   ]
  },
  {
   "cell_type": "code",
   "execution_count": 5,
   "metadata": {},
   "outputs": [],
   "source": [
    "%matplotlib qt\n",
    "\n",
    "import numpy as np\n",
    "import cv2 as cv\n",
    "import matplotlib.pyplot as plt"
   ]
  },
  {
   "cell_type": "code",
   "execution_count": 2,
   "metadata": {},
   "outputs": [],
   "source": [
    "# Cargar una imagen en modo monocromático (un canal)\n",
    "img = cv.imread('mib-alien.jpg', cv.IMREAD_GRAYSCALE)"
   ]
  },
  {
   "attachments": {},
   "cell_type": "markdown",
   "metadata": {},
   "source": [
    "#### Ejemplo: Cambio de contraste"
   ]
  },
  {
   "cell_type": "code",
   "execution_count": 3,
   "metadata": {},
   "outputs": [],
   "source": [
    "def change_contrast(input_image:np.ndarray, contrast:int) -> np.ndarray: \n",
    "    '''\n",
    "    Argumentos\n",
    "    img: Imagen de entrada\n",
    "    contrast: Valor porcentual de contraste\n",
    "    ---------------------------------------\n",
    "    Retorno\n",
    "    Imagen: (numpy.ndarray) con el nuevo contraste\n",
    "    '''\n",
    "    img_new = (1 + contrast / 100) * input_image\n",
    "    # Clip trunca a lo que se le diga (0 a 255)\n",
    "    np.clip(img_new, 0, 255, out = img_new)\n",
    "    # Hay que castear a 8 bits   \n",
    "    img_new = img_new.astype('uint8')         \n",
    "\n",
    "    return img_new\n"
   ]
  },
  {
   "cell_type": "code",
   "execution_count": 6,
   "metadata": {},
   "outputs": [],
   "source": [
    "# Nueva figura\n",
    "fig = plt.figure()\n",
    "\n",
    "# Imagen original\n",
    "ax1=plt.subplot(221)\n",
    "ax1.imshow(img, cmap='gray', vmin=0, vmax=255)\n",
    "ax1.set_title('Original')\n",
    "\n",
    "hist1, bins1 = np.histogram(img.ravel(), 256, [0, 256])\n",
    "\n",
    "# Modificamos contraste 10%\n",
    "new_contrast = 10\n",
    "img_mod = change_contrast(input_image=img, contrast=new_contrast)\n",
    "\n",
    "ax2=plt.subplot(222)\n",
    "ax2.imshow(img_mod, cmap='gray', vmin=0, vmax=255)\n",
    "ax2.set_title(f'Contraste: {new_contrast}%')\n",
    "\n",
    "hist2,bins2 = np.histogram(img_mod.ravel(),256,[0,256])\n",
    "\n",
    "# Modificamos contraste 50%\n",
    "new_contrast = 50\n",
    "img_mod = change_contrast(input_image=img, contrast=new_contrast)\n",
    "\n",
    "ax3=plt.subplot(223)\n",
    "ax3.imshow(img_mod, cmap='gray', vmin=0, vmax=255)\n",
    "ax3.set_title(f'Contraste: {new_contrast}%')\n",
    "\n",
    "hist3,bins3 = np.histogram(img_mod.ravel(),256,[0,256])\n",
    "\n",
    "# Modificamos contraste 80%\n",
    "new_contrast = 80\n",
    "img_mod = change_contrast(input_image=img, contrast=new_contrast)\n",
    "\n",
    "ax4=plt.subplot(224)\n",
    "ax4.imshow(img_mod, cmap='gray', vmin=0, vmax=255)\n",
    "ax4.set_title(f'Contraste: {new_contrast}%')\n",
    "\n",
    "hist4,bins4 = np.histogram(img_mod.ravel(),256,[0,256])\n",
    "\n",
    "plt.show()\n",
    "\n",
    "# Nueva figura\n",
    "fig = plt.figure()\n",
    "\n",
    "# Histogramas de la imagen\n",
    "plt.subplot(221), plt.plot(hist1)\n",
    "plt.subplot(222), plt.plot(hist2)\n",
    "plt.subplot(223), plt.plot(hist3)\n",
    "plt.subplot(224), plt.plot(hist4)\n",
    "plt.show()\n"
   ]
  },
  {
   "attachments": {},
   "cell_type": "markdown",
   "metadata": {},
   "source": [
    "#### Ejemplo: Cambio de brillo"
   ]
  },
  {
   "cell_type": "code",
   "execution_count": 7,
   "metadata": {},
   "outputs": [],
   "source": [
    "def change_brightness(input_image:np.ndarray, bright:int) -> np.ndarray: \n",
    "    '''\n",
    "    Argumentos\n",
    "    img: Imagen de entrada\n",
    "    bright: Valor porcentual de brillo\n",
    "    ---------------------------------------\n",
    "    Retorno\n",
    "    Imagen: (numpy.ndarray) con el nuevo brillo\n",
    "    '''\n",
    "    img_new = img + (255 * bright / 100)\n",
    "    # Clip trunca a lo que se le diga (0 a 255)\n",
    "    np.clip(img_new, 0, 255, out = img_new)\n",
    "    # Hay que castear a 8 bits   \n",
    "    img_new = img_new.astype('uint8')         \n",
    "\n",
    "    return img_new"
   ]
  },
  {
   "cell_type": "code",
   "execution_count": 8,
   "metadata": {},
   "outputs": [],
   "source": [
    "# Nueva figura\n",
    "fig = plt.figure()\n",
    "\n",
    "# Imagen original\n",
    "ax1=plt.subplot(221)\n",
    "ax1.imshow(img, cmap='gray', vmin=0, vmax=255)\n",
    "ax1.set_title('Original')\n",
    "\n",
    "# Modificamos brillo 10%\n",
    "new_bright = 10\n",
    "img_mod = change_brightness(input_image=img, bright=new_bright)\n",
    "ax2=plt.subplot(222)\n",
    "ax2.imshow(img_mod, cmap='gray', vmin=0, vmax=255)\n",
    "ax2.set_title('Brillo: 10%')\n",
    "\n",
    "hist2,bins2 = np.histogram(img_mod.ravel(), 256, [0, 256])\n",
    "\n",
    "# Modificamos brillo 50%\n",
    "new_bright = 50\n",
    "img_mod = change_brightness(input_image=img, bright=new_bright)\n",
    "ax3=plt.subplot(223)\n",
    "ax3.imshow(img_mod, cmap='gray', vmin=0, vmax=255)\n",
    "ax3.set_title('Brillo: 50%')\n",
    "\n",
    "hist3,bins3 = np.histogram(img_mod.ravel(),256,[0,256])\n",
    "\n",
    "# Modificamos brillo 80%\n",
    "new_bright = 80\n",
    "img_mod = change_brightness(input_image=img, bright=new_bright)\n",
    "ax4=plt.subplot(224)\n",
    "ax4.imshow(img_mod, cmap='gray', vmin=0, vmax=255)\n",
    "ax4.set_title('Brillo: 80%')\n",
    "\n",
    "hist4,bins4 = np.histogram(img_mod.ravel(),255,[0,255])\n",
    "\n",
    "plt.show()\n",
    "\n",
    "# Nueva figura\n",
    "fig = plt.figure()\n",
    "\n",
    "# Histogramas de la imagen\n",
    "plt.subplot(221), plt.plot(hist1)\n",
    "plt.subplot(222), plt.plot(hist2)\n",
    "plt.subplot(223), plt.plot(hist3)\n",
    "plt.subplot(224), plt.plot(hist4)\n",
    "plt.show()\n"
   ]
  },
  {
   "attachments": {},
   "cell_type": "markdown",
   "metadata": {},
   "source": [
    "#### Corrección por Gamma"
   ]
  },
  {
   "attachments": {},
   "cell_type": "markdown",
   "metadata": {},
   "source": [
    "Para valores menores a 1 la luminancia se desplaza hacia tonos oscuros, si ajustamos con gamma > 1 nos movemos hacia los todos mas claros"
   ]
  },
  {
   "cell_type": "code",
   "execution_count": 9,
   "metadata": {},
   "outputs": [
    {
     "data": {
      "text/plain": [
       "<matplotlib.legend.Legend at 0x27672cf3808>"
      ]
     },
     "execution_count": 9,
     "metadata": {},
     "output_type": "execute_result"
    }
   ],
   "source": [
    "gamma = 1.5\n",
    "img_mod = np.power(img, 1/gamma)\n",
    "ax1=plt.subplot(121)\n",
    "ax1.set_title('Original')\n",
    "plt.imshow(img, cmap='gray')\n",
    "ax2=plt.subplot(122)\n",
    "ax2.set_title(f'Corregido por Gamma:{gamma}')\n",
    "plt.imshow(img_mod, cmap='gray')\n",
    "plt.show()\n",
    "\n",
    "hist1, _ = np.histogram(img, 256, [0, 256])\n",
    "hist2, _ = np.histogram(img_mod, 256, [0, 256])\n",
    "plt.figure()\n",
    "plt.plot(hist1)\n",
    "plt.plot(hist2)\n",
    "plt.legend([\"imagen original\",\"imagen modificada\"])"
   ]
  },
  {
   "attachments": {},
   "cell_type": "markdown",
   "metadata": {},
   "source": [
    "### Histograma 2D"
   ]
  },
  {
   "cell_type": "code",
   "execution_count": 11,
   "metadata": {},
   "outputs": [],
   "source": [
    "img = cv.imread('paisaje.png')\n",
    "hsv = cv.cvtColor(img, cv.COLOR_BGR2HSV)\n",
    "hist = cv.calcHist([img], channels=[1, 2], mask=None, histSize=[180, 256], ranges=[0, 180, 0, 255])\n",
    "plt.figure()\n",
    "plt.imshow(hist, cmap='jet')\n",
    "plt.show()"
   ]
  }
 ],
 "metadata": {
  "kernelspec": {
   "display_name": "Python 3.7.10 ('vision-robotica')",
   "language": "python",
   "name": "python3"
  },
  "language_info": {
   "codemirror_mode": {
    "name": "ipython",
    "version": 3
   },
   "file_extension": ".py",
   "mimetype": "text/x-python",
   "name": "python",
   "nbconvert_exporter": "python",
   "pygments_lexer": "ipython3",
   "version": "3.7.10"
  },
  "vscode": {
   "interpreter": {
    "hash": "0af437b5139b375ee3fab2b21e8a1376590e14b3c752e237587dc080bd8d5be3"
   }
  }
 },
 "nbformat": 4,
 "nbformat_minor": 2
}
