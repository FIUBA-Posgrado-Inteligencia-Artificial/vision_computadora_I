{
 "cells": [
  {
   "cell_type": "markdown",
   "metadata": {},
   "source": [
    "# Mean shift\n",
    "Segmentación basada en el algoritmo de corrimiento de medias"
   ]
  },
  {
   "cell_type": "code",
   "execution_count": 1,
   "metadata": {},
   "outputs": [
    {
     "name": "stdout",
     "output_type": "stream",
     "text": [
      "Using matplotlib backend: Qt5Agg\n"
     ]
    }
   ],
   "source": [
    "#Si queremos que las imágenes sean mostradas en una ventana emergente quitar el inline\n",
    "# %matplotlib inline\n",
    "%matplotlib\n",
    "\n",
    "import numpy as np\n",
    "import cv2 as cv\n",
    "import matplotlib.pyplot as plt"
   ]
  },
  {
   "cell_type": "markdown",
   "metadata": {},
   "source": [
    "###  Leemos la imagen"
   ]
  },
  {
   "cell_type": "code",
   "execution_count": 2,
   "metadata": {},
   "outputs": [],
   "source": [
    "# Cargamos la imagen y la binarizamos por el método de Otzu\n",
    "img = cv.imread('piezas.png')\n",
    "cv.imshow('Imagen original',img)"
   ]
  },
  {
   "cell_type": "markdown",
   "metadata": {},
   "source": [
    "### Corremos mean shift\n",
    "\n",
    "La función cv.meanShift de OpenCV está pensada para hacer tracking (seguimiento) de una ventana predefinida en una secuencia de imágenes. Sin embargo existe la función cv.pyrMeanShiftFiltering() que funciona para segmentación de imágenes tal cual lo vimos en las clases teóricas.\n",
    "\n",
    "Realiza una posterización de la imagen (grupos de colores) basados tanto en el espacio de color como en el espacio (X,Y) de la imagen. Por tanto tiene parámetros de radio de ventana de búsqueda tanto para color (sr) como para distancia relativa a cada píxel (sp)\n",
    "\n",
    "- (x,y):X−sp≤x≤X+sp\n",
    "- Y−sp≤y≤Y+sp\n",
    "- ||(R,G,B)−(r,g,b)||≤sr\n",
    "\n",
    "Al terminar las iteraciones cada píxel es asignado al color promedio de la última iteración\n",
    "\n",
    "Cuando maxLevel> 0 (por defecto maxLevel=1), se construye una pirámide gaussiana de niveles maxLevel + 1, y el procedimiento anterior se ejecuta primero en la capa de menor resolución. Después de eso, los resultados se propagan a la capa de mayor resolución y las iteraciones se ejecutan nuevamente solo en aquellos píxeles donde los colores de la capa difieren en más de sr de la capa de resolución más baja de la pirámide. Eso hace que los límites de las regiones de color sean más nítidos. (Los resultados difieren de utilizar mean shift directamente sobre la imagen original, maxLevel=0)"
   ]
  },
  {
   "cell_type": "markdown",
   "metadata": {},
   "source": [
    "#### Con parámetros por defecto (maxLevel=1)"
   ]
  },
  {
   "cell_type": "code",
   "execution_count": 3,
   "metadata": {},
   "outputs": [],
   "source": [
    "# Radio para la ventana espacial\n",
    "sp = 20\n",
    "# Radio para la ventana color\n",
    "sr = 40\n",
    "\n",
    "# Corremos el filtrado (segmentación)\n",
    "img_out=cv.pyrMeanShiftFiltering(img, sp, sr)\n",
    "\n",
    "# Mostramos el resultado\n",
    "cv.imshow('Imagen posterizada 1',img_out)\n",
    "cv.waitKey(0)\n",
    "cv.destroyAllWindows()"
   ]
  },
  {
   "cell_type": "markdown",
   "metadata": {},
   "source": [
    "#### Corriendo sobre la imagen a resolución original"
   ]
  },
  {
   "cell_type": "code",
   "execution_count": 4,
   "metadata": {},
   "outputs": [],
   "source": [
    "# Radio para la ventana espacial\n",
    "sp = 20\n",
    "# Radio para la ventana color\n",
    "sr = 40\n",
    "\n",
    "# Corremos el filtrado (segmentación)\n",
    "img_out=cv.pyrMeanShiftFiltering(img, sp, sr, maxLevel = 0)\n",
    "\n",
    "# Mostramos el resultado\n",
    "cv.imshow('Imagen posterizada 2',img_out)"
   ]
  },
  {
   "cell_type": "code",
   "execution_count": null,
   "metadata": {},
   "outputs": [],
   "source": []
  }
 ],
 "metadata": {
  "kernelspec": {
   "display_name": "Python 3.7.10 ('vision-robotica')",
   "language": "python",
   "name": "python3"
  },
  "language_info": {
   "codemirror_mode": {
    "name": "ipython",
    "version": 3
   },
   "file_extension": ".py",
   "mimetype": "text/x-python",
   "name": "python",
   "nbconvert_exporter": "python",
   "pygments_lexer": "ipython3",
   "version": "3.7.10"
  },
  "vscode": {
   "interpreter": {
    "hash": "0af437b5139b375ee3fab2b21e8a1376590e14b3c752e237587dc080bd8d5be3"
   }
  }
 },
 "nbformat": 4,
 "nbformat_minor": 2
}
