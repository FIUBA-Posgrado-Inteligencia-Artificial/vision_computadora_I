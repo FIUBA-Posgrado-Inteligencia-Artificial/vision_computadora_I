{
 "cells": [
  {
   "cell_type": "markdown",
   "metadata": {},
   "source": [
    "# K-means\n",
    "Segmentación basada en el algoritmo de k-medias"
   ]
  },
  {
   "cell_type": "code",
   "execution_count": 10,
   "metadata": {},
   "outputs": [],
   "source": [
    "#Si queremos que las imágenes sean mostradas en una ventana emergente quitar el inline\n",
    "# %matplotlib inline\n",
    "%matplotlib qt\n",
    "import numpy as np\n",
    "import cv2 as cv\n",
    "import matplotlib.pyplot as plt"
   ]
  },
  {
   "cell_type": "markdown",
   "metadata": {},
   "source": [
    "####  Leemos la imagen"
   ]
  },
  {
   "cell_type": "code",
   "execution_count": 19,
   "metadata": {},
   "outputs": [],
   "source": [
    "img = cv.imread('piezas.png')\n",
    "cv.imshow('Imagen original',img)"
   ]
  },
  {
   "cell_type": "markdown",
   "metadata": {},
   "source": [
    "#### Corremos K-means\n",
    "\n",
    "Se basa en un corrimiento a partir de K semillas (se debe indicar el número K de semillas o grupos a identificar) que se desplazan a partir del cálculo iterativo de la media de las características más cercanas.\n",
    "\n",
    "En particular en este caso lo que se le pasa al algoritmo es una matriz con filas (de 3 columnas) con los colores RGB de cada pixel. De esta manera, cada fila es la característica (color) de ese píxel."
   ]
  },
  {
   "cell_type": "code",
   "execution_count": 12,
   "metadata": {},
   "outputs": [
    {
     "name": "stdout",
     "output_type": "stream",
     "text": [
      "Dimensión de la matriz de características (espacio RGB): (562237, 3)\n",
      "[[ 68.  98.  26.]\n",
      " [ 72. 101.  32.]\n",
      " [ 72. 100.  31.]\n",
      " [ 70.  99.  29.]]\n"
     ]
    }
   ],
   "source": [
    "# Cambiamos el tamaño a un array de Mx3 (con M el número de píxels). Es decir, un vector de M componentes por canal (R,G,B)\n",
    "features = img.reshape((-1,3))\n",
    "print('Dimensión de la matriz de características (espacio RGB): {}'.format(features.shape))\n",
    "features = np.float32(features)\n",
    "print(features[:4])"
   ]
  },
  {
   "cell_type": "code",
   "execution_count": 20,
   "metadata": {},
   "outputs": [],
   "source": [
    "# Definimos el criterio de detención (Epsilon e iteraciones máximas) y número de clústers (K)\n",
    "criteria = (cv.TERM_CRITERIA_MAX_ITER + cv.TERM_CRITERIA_EPS, 10, 1.0)\n",
    "K = 5\n",
    "\n",
    "# Corremos el algoritmo de K-means con:\n",
    "# - El criterio de detención predefinido\n",
    "# - 10 ejecuciones del algoritmo distintos parametros iniciales (devuelve los centros de la corrida que de grupos más compactos)\n",
    "# - Parámetro de incialización de las semillas (aleatorio)\n",
    "compact, label, color_clusters = cv.kmeans(features, K, None, criteria, 10, cv.KMEANS_RANDOM_CENTERS)"
   ]
  },
  {
   "cell_type": "markdown",
   "metadata": {},
   "source": [
    "#### Interpretamos datos\n",
    "\n",
    "A partir de los centros de los grupos encontrados por K-means y las etiquetas por píxel armamos una nueva imagen con K colores\n",
    "\n",
    "- center: Centroides de los grupos hallados\n",
    "- label: etiquetas (replica de los centroides) a los que corresponde cada píxel, en su ubicación en la matriz de Mx3"
   ]
  },
  {
   "cell_type": "code",
   "execution_count": 21,
   "metadata": {},
   "outputs": [
    {
     "name": "stdout",
     "output_type": "stream",
     "text": [
      "Centroides: \n",
      " [[ 58  84  19]\n",
      " [215 203 198]\n",
      " [162  63  30]\n",
      " [ 83  98 134]\n",
      " [121 158 176]] \n",
      "\n",
      "Compactación: \n",
      " 343307120.25158006 \n",
      "\n"
     ]
    },
    {
     "data": {
      "text/plain": [
       "array([[0],\n",
       "       [0],\n",
       "       [0],\n",
       "       [0],\n",
       "       [0],\n",
       "       [0],\n",
       "       [0],\n",
       "       [0],\n",
       "       [0],\n",
       "       [0],\n",
       "       [0],\n",
       "       [0],\n",
       "       [0],\n",
       "       [0],\n",
       "       [0]], dtype=int32)"
      ]
     },
     "execution_count": 21,
     "metadata": {},
     "output_type": "execute_result"
    }
   ],
   "source": [
    "# Mostramos los centroides (colores) que representan cada cluster encontrado\n",
    "color_clusters = np.uint8(color_clusters)\n",
    "print(f'Centroides: \\n {color_clusters} \\n')\n",
    "# La función también devuelve un parámetro de \"compactación\" basado en las diferencias cuadradas entre las muestras y los centros hallados  \n",
    "print('Compactación: \\n {} \\n'.format(compact))\n",
    "label[0:15]"
   ]
  },
  {
   "cell_type": "markdown",
   "metadata": {},
   "source": [
    "####  Convertimos a uint8 y rearmamos la imagen original con los grupos hallados"
   ]
  },
  {
   "cell_type": "code",
   "execution_count": 23,
   "metadata": {},
   "outputs": [],
   "source": [
    "# Cada píxel que corresponde a un grupo tiene copiado como etiqueta el color al que corresponde. Hacemos un reshape al tamaño original de la matriz de imagen \n",
    "img_out = color_clusters[label.flatten()]\n",
    "img_out = img_out.reshape((img.shape))\n",
    "\n",
    "# Mostramos la imagen compuesta\n",
    "cv.imshow('Imagen posterizada',img_out)"
   ]
  },
  {
   "cell_type": "markdown",
   "metadata": {},
   "source": [
    "#### Mascaras de segmentacion"
   ]
  },
  {
   "cell_type": "code",
   "execution_count": 24,
   "metadata": {},
   "outputs": [],
   "source": [
    "mask_list = list()\n",
    "for cluster in color_clusters:\n",
    "  mask = np.zeros(img_out.shape[:2], 'uint8')\n",
    "  mask[np.where((img_out == cluster).all(axis=2))] = 255\n",
    "  mask_list.append(mask)"
   ]
  },
  {
   "cell_type": "code",
   "execution_count": 25,
   "metadata": {},
   "outputs": [],
   "source": [
    "for i, mask in enumerate(mask_list):\n",
    "    img_segmented = cv.bitwise_and(img, img, mask = mask)\n",
    "    # cv.imshow(f'mascara {i}', mask)\n",
    "    cv.imshow(f'segmentacion {i}', img_segmented)"
   ]
  },
  {
   "cell_type": "markdown",
   "metadata": {},
   "source": [
    "#### Estas mascaras se pueden mejorar aplicando procesamiento morfologico."
   ]
  }
 ],
 "metadata": {
  "kernelspec": {
   "display_name": "Python 3.7.10 ('vision-robotica')",
   "language": "python",
   "name": "python3"
  },
  "language_info": {
   "codemirror_mode": {
    "name": "ipython",
    "version": 3
   },
   "file_extension": ".py",
   "mimetype": "text/x-python",
   "name": "python",
   "nbconvert_exporter": "python",
   "pygments_lexer": "ipython3",
   "version": "3.10.14"
  },
  "vscode": {
   "interpreter": {
    "hash": "0af437b5139b375ee3fab2b21e8a1376590e14b3c752e237587dc080bd8d5be3"
   }
  }
 },
 "nbformat": 4,
 "nbformat_minor": 2
}
