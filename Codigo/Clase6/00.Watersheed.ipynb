{
 "cells": [
  {
   "attachments": {},
   "cell_type": "markdown",
   "metadata": {},
   "source": [
    "# Watershed\n",
    "Segmentación basada en el algoritmo de watershed o \"cuenca hidrográfica\""
   ]
  },
  {
   "cell_type": "code",
   "execution_count": 1,
   "metadata": {},
   "outputs": [],
   "source": [
    "#Si queremos que las imágenes sean mostradas en una ventana emergente quitar el inline\n",
    "# %matplotlib inline\n",
    "%matplotlib qt\n",
    "\n",
    "import numpy as np\n",
    "import cv2 as cv\n",
    "import matplotlib.pyplot as plt"
   ]
  },
  {
   "cell_type": "code",
   "execution_count": 13,
   "metadata": {},
   "outputs": [
    {
     "data": {
      "text/plain": [
       "<matplotlib.image.AxesImage at 0x1fcc352e890>"
      ]
     },
     "execution_count": 13,
     "metadata": {},
     "output_type": "execute_result"
    }
   ],
   "source": [
    "# Cargamos la imagen y la binarizamos por el método de Otsu\n",
    "img = cv.imread('piezas.png')\n",
    "gray = cv.cvtColor(img,cv.COLOR_BGR2GRAY)\n",
    "\n",
    "# Binarizamos...\n",
    "ret, thresh = cv.threshold(gray,0,255,cv.THRESH_BINARY+cv.THRESH_OTSU)\n",
    "\n",
    "plt.figure()\n",
    "plt.imshow(cv.cvtColor(img,cv.COLOR_BGR2RGB))"
   ]
  },
  {
   "attachments": {},
   "cell_type": "markdown",
   "metadata": {},
   "source": [
    "### Marcadores\n",
    "\n",
    "El método de watershed por OpenCV precisa que se le indiquen los marcadores (semillas) de manera que no se genere sobresegmentacion.\n",
    "\n",
    "Esto se logra a través de operaciones morfológicas"
   ]
  },
  {
   "cell_type": "markdown",
   "metadata": {},
   "source": [
    "#### Operaciones morfológicas\n",
    "\n",
    "Se busca intentar separar fondo de objetos lo mejor posible. Quedará:\n",
    "\n",
    "- Una zona de fondo seguro\n",
    "- Una zona de objetos seguro\n",
    "- Una zona de incertezas (la resta de las dos anteriores)"
   ]
  },
  {
   "cell_type": "markdown",
   "metadata": {},
   "source": [
    "### Pre-procesamos mediante operaciones morfologicas"
   ]
  },
  {
   "cell_type": "code",
   "execution_count": 17,
   "metadata": {},
   "outputs": [
    {
     "data": {
      "text/plain": [
       "Text(0.5, 1.0, 'Luego de aplicar una Apertura')"
      ]
     },
     "execution_count": 17,
     "metadata": {},
     "output_type": "execute_result"
    }
   ],
   "source": [
    "# Creamos un elemento estructurante y aplicamos operaciones morfologicas\n",
    "kernel = np.ones((3,3), np.uint8)\n",
    "\n",
    "# Aplicamos una serie de iteraciones de apertura\n",
    "opening = cv.morphologyEx(thresh, cv.MORPH_OPEN, kernel, iterations = 2)\n",
    "\n",
    "plt.figure()\n",
    "plt.imshow(thresh, cmap='gray')\n",
    "plt.title(\"Img binarizada\")\n",
    "\n",
    "fig=plt.figure('Apertura (reduccion de ruido)')\n",
    "plt.imshow(opening, cmap='gray')\n",
    "plt.title(\"Luego de aplicar una Apertura\")"
   ]
  },
  {
   "attachments": {},
   "cell_type": "markdown",
   "metadata": {},
   "source": [
    "### Buscamos las zonas de objeto (sure foreground) y fondo (sure background)"
   ]
  },
  {
   "cell_type": "code",
   "execution_count": 5,
   "metadata": {},
   "outputs": [],
   "source": [
    "# Área de fondo (background) segura. (Zona negra)\n",
    "sure_bg = cv.dilate(opening, kernel, iterations=3)"
   ]
  },
  {
   "cell_type": "code",
   "execution_count": 16,
   "metadata": {},
   "outputs": [
    {
     "data": {
      "text/plain": [
       "<matplotlib.image.AxesImage at 0x1fcc4368880>"
      ]
     },
     "execution_count": 16,
     "metadata": {},
     "output_type": "execute_result"
    }
   ],
   "source": [
    "# Búsqueda del área de objeto (foreground) segura.\n",
    "# Transformación de distancia (distancia de cada píxel al cero más cercano)\n",
    "#------------------------------------------------------------------------------------\n",
    "# Conviene cerrar primero la figura para que no haya agujeros (ceros) dentro de los objetos que afecten la transformada\n",
    "closing = cv.morphologyEx(opening, cv.MORPH_CLOSE, kernel, iterations = 2)\n",
    "# Ahora sí aplicamos la transformación de distancia\n",
    "dist_transform = cv.distanceTransform(closing, cv.DIST_L2, maskSize=5)\n",
    "# Área de objeto (sure foreground) segura. Zona blanca!\n",
    "ret, sure_fg = cv.threshold(dist_transform, 0.7*dist_transform.max(), 255, 0)\n",
    "# Búsqueda de la región no definida\n",
    "sure_fg = np.uint8(sure_fg)\n",
    "unknown = cv.subtract(sure_bg, sure_fg)\n",
    "\n",
    "#Graficamos...\n",
    "#=============\n",
    "fig=plt.figure('Transformación de distancia')\n",
    "plt.imshow(dist_transform, cmap='gray')\n",
    "\n",
    "fig=plt.figure('Zona desconocida')\n",
    "plt.imshow(unknown, cmap='gray')\n",
    "\n",
    "fig=plt.figure('Objetos seguros')\n",
    "plt.imshow(sure_fg, cmap='gray')"
   ]
  },
  {
   "cell_type": "markdown",
   "metadata": {},
   "source": [
    "#### Etiquetado\n",
    "\n",
    "En función del análisis morfológico anterior es que se realiza el etiquetado (utilizando componentes conexos)\n",
    "\n",
    "- Cada supuesto objeto con una etiqueta diferente\n",
    "- Los pixeles con incertidumbre con etiqueta 0"
   ]
  },
  {
   "cell_type": "code",
   "execution_count": 18,
   "metadata": {},
   "outputs": [
    {
     "name": "stdout",
     "output_type": "stream",
     "text": [
      "(709, 793)\n"
     ]
    }
   ],
   "source": [
    "# Etiquetado de marcadores (similar a flood fill)\n",
    "ret, connected_coord = cv.connectedComponents(sure_fg)\n",
    "# Agregar un uno ('1') a todas las etiquetas (para evitar la etiqueta '0')\n",
    "# CC asigna 0 para el background pero watershed necesita que el 0 este asociado a \n",
    "# la region desconocida o indefinida\n",
    "connected_coord = connected_coord + 1\n",
    "# Ahora, marcamos la región de incertezas con cero\n",
    "connected_coord[unknown==255] = 0\n",
    "\n",
    "fig=plt.figure('Marcadores')\n",
    "plt.imshow(connected_coord, cmap='jet')\n",
    "print(connected_coord.shape)"
   ]
  },
  {
   "attachments": {},
   "cell_type": "markdown",
   "metadata": {},
   "source": [
    "### Watershed\n",
    "\n",
    "Una vez definidos los marcadores se corre el algoritmo de watersheed.\n",
    "\n",
    "Los bordes (devueltos por el algoritmo con valor -1) los \"pintamos\" de color rojo"
   ]
  },
  {
   "cell_type": "code",
   "execution_count": 19,
   "metadata": {},
   "outputs": [
    {
     "data": {
      "text/plain": [
       "<matplotlib.image.AxesImage at 0x1fcbefa7af0>"
      ]
     },
     "execution_count": 19,
     "metadata": {},
     "output_type": "execute_result"
    }
   ],
   "source": [
    "img_out = img.copy()\n",
    "img_out = cv.cvtColor(img_out, cv.COLOR_BGR2RGB)\n",
    "# la salida de watershed es una matriz con -1 en las posiciones de bordes y 1 en los pixeles de background\n",
    "markers = cv.watershed(img_out, connected_coord)\n",
    "img_out[markers == -1] = [255,0,0]\n",
    "img_out[markers == 1] = [0,0,0]\n",
    "\n",
    "fig=plt.figure('Objetos segmentados')\n",
    "plt.imshow(img_out, cmap='jet')"
   ]
  },
  {
   "cell_type": "code",
   "execution_count": null,
   "metadata": {},
   "outputs": [],
   "source": []
  }
 ],
 "metadata": {
  "kernelspec": {
   "display_name": "Python 3.7.10 ('vision-robotica')",
   "language": "python",
   "name": "python3"
  },
  "language_info": {
   "codemirror_mode": {
    "name": "ipython",
    "version": 3
   },
   "file_extension": ".py",
   "mimetype": "text/x-python",
   "name": "python",
   "nbconvert_exporter": "python",
   "pygments_lexer": "ipython3",
   "version": "3.10.14"
  },
  "vscode": {
   "interpreter": {
    "hash": "0af437b5139b375ee3fab2b21e8a1376590e14b3c752e237587dc080bd8d5be3"
   }
  }
 },
 "nbformat": 4,
 "nbformat_minor": 2
}
