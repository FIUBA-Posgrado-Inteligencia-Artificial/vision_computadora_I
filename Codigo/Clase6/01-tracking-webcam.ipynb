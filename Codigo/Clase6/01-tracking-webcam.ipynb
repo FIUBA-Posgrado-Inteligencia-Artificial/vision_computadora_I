{
 "cells": [
  {
   "cell_type": "code",
   "execution_count": 1,
   "metadata": {},
   "outputs": [],
   "source": [
    "#Si queremos que las imágenes sean mostradas en una ventana emergente quitar el inline\n",
    "# %matplotlib inline\n",
    "%matplotlib qt\n",
    "\n",
    "# Importamos las librerías necesarias\n",
    "import numpy as np\n",
    "import cv2 as cv\n",
    "import matplotlib.pyplot as plt"
   ]
  },
  {
   "attachments": {},
   "cell_type": "markdown",
   "metadata": {},
   "source": [
    "### Seguimiento con frames leidos desde la webcam"
   ]
  },
  {
   "cell_type": "code",
   "execution_count": 9,
   "metadata": {},
   "outputs": [],
   "source": [
    "from collections import deque\n",
    "# Condición de terminación: 10 iteraciones o moverse al menos 1pt\n",
    "#----------------------------------------------------------------\n",
    "term_crit = ( cv.TERM_CRITERIA_COUNT | cv.TERM_CRITERIA_EPS, 10, 1)\n",
    "cap = cv.VideoCapture(0)\n",
    "selected_roi = False\n",
    "show_track = True\n",
    "\n",
    "centers = deque(maxlen=10)\n",
    "while(1):\n",
    "\n",
    "    ret ,frame = cap.read()\n",
    "\n",
    "    if ret:\n",
    "        \n",
    "        if selected_roi:\n",
    "            \n",
    "            hsv = cv.cvtColor(frame, cv.COLOR_BGR2HSV)\n",
    "            dst = cv.calcBackProject([hsv], [0], roi_hist, [0,180], 1)\n",
    "            ret, track_window = cv.meanShift(dst, track_window, term_crit)\n",
    "            x, y, w, h = track_window\n",
    "            \n",
    "            # recalculamos las caracteristicas para actualizar nuestro descriptor\n",
    "            # hsv_roi =  hsv[y:y+h, x:x+w,:]\n",
    "            # mask = cv.inRange(hsv_roi, np.array((0., 60.,32.)), np.array((180.,255.,255.)))\n",
    "            # roi_hist = cv.calcHist([hsv_roi],[0],mask,[180],[0,180])\n",
    "            # cv.normalize(roi_hist,roi_hist,0,255,cv.NORM_MINMAX)\n",
    "            \n",
    "            frame = cv.rectangle(frame, (x,y), (x+w,y+h), 255,2)\n",
    "            \n",
    "            if show_track:\n",
    "            \n",
    "                centers.append((int(x + w/2), int(y + h/2)))\n",
    "                for center in centers:\n",
    "                    cv.circle(frame, center, radius=3, color=(255,0,0),thickness = -1)\n",
    "                \n",
    "        cv.imshow('Seguimiento',frame)\n",
    "        key = cv.waitKey(50) & 0xFF\n",
    "        # Usamos funciones de GUI de OpenCV para seleccionar una ROI\n",
    "        # Si presionamos s la ventana se congela y debemos marcar una region a trackear\n",
    "        # haciendo click izq con el mouse y arrastrando el rectangulo.\n",
    "        # Cuna vez elegida la ROI presionamos Espacio y comienza el tracking.\n",
    "        if key == ord(\"s\"):\n",
    "            track_window = cv.selectROI(\"Seguimiento\", frame, fromCenter=False, showCrosshair=False)\n",
    "            x, y, w, h = track_window\n",
    "            selected_roi = True\n",
    "            # caracteristicas para meanshift\n",
    "            hsv_roi =  cv.cvtColor(frame[y:y+h, x:x+w,:], cv.COLOR_BGR2HSV)\n",
    "            mask = cv.inRange(hsv_roi, np.array((0., 60.,32.)), np.array((180.,255.,255.)))\n",
    "            roi_hist = cv.calcHist([hsv_roi],[0],mask,[180],[0,180])\n",
    "            cv.normalize(roi_hist,roi_hist,0,255,cv.NORM_MINMAX)\n",
    "            \n",
    "        elif key == ord(\"q\"):\n",
    "            break\n",
    "    else:\n",
    "        break\n",
    "\n",
    "cv.destroyAllWindows()\n",
    "cap.release()"
   ]
  },
  {
   "cell_type": "code",
   "execution_count": null,
   "metadata": {},
   "outputs": [],
   "source": []
  }
 ],
 "metadata": {
  "kernelspec": {
   "display_name": "Python 3.7.10 ('vision-robotica')",
   "language": "python",
   "name": "python3"
  },
  "language_info": {
   "codemirror_mode": {
    "name": "ipython",
    "version": 3
   },
   "file_extension": ".py",
   "mimetype": "text/x-python",
   "name": "python",
   "nbconvert_exporter": "python",
   "pygments_lexer": "ipython3",
   "version": "3.10.14"
  },
  "vscode": {
   "interpreter": {
    "hash": "0af437b5139b375ee3fab2b21e8a1376590e14b3c752e237587dc080bd8d5be3"
   }
  }
 },
 "nbformat": 4,
 "nbformat_minor": 4
}
