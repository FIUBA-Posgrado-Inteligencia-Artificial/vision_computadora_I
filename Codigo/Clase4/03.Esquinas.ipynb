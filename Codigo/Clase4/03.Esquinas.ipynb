{
 "cells": [
  {
   "cell_type": "markdown",
   "metadata": {},
   "source": [
    "## Esquinas\n",
    "Harris - Shi/Tomassi"
   ]
  },
  {
   "cell_type": "code",
   "execution_count": 7,
   "metadata": {},
   "outputs": [],
   "source": [
    "#Si queremos que las imágenes sean mostradas en una ventana emergente quitar el inline\n",
    "# %matplotlib inline\n",
    "%matplotlib qt\n",
    "import numpy as np\n",
    "import cv2 as cv\n",
    "import matplotlib.pyplot as plt"
   ]
  },
  {
   "cell_type": "code",
   "execution_count": 8,
   "metadata": {},
   "outputs": [],
   "source": [
    "# Cargamos la imagen a procesar\n",
    "img = cv.imread('chessboard2.png')\n",
    "#img = cv.imread('bloques.png')\n",
    "\n",
    "# La transformamos en escala de grises\n",
    "gray = cv.cvtColor(img,cv.COLOR_BGR2GRAY)\n",
    "gray = np.float32(gray)"
   ]
  },
  {
   "cell_type": "markdown",
   "metadata": {},
   "source": [
    "#### Harris"
   ]
  },
  {
   "cell_type": "code",
   "execution_count": 9,
   "metadata": {},
   "outputs": [],
   "source": [
    "# Detector de esquinas de Harris (imagen, bloque, apertura del filtro de Sobel, k)\n",
    "\n",
    "dst = cv.cornerHarris(gray, blockSize=2, ksize=3, k=0.06)\n",
    "\n",
    "# El resultado se dilata para marcar las esquinas (solo para mostrar)\n",
    "dst = cv.dilate(dst, None)\n",
    "\n",
    "# El umbral óptimo dependerá de la imagen\n",
    "img_out=img.copy()\n",
    "img_out[dst > 0.1 * dst.max()]=[0,0,255]\n",
    "\n",
    "# Muestro la imagen y la salida del detector\n",
    "cv.namedWindow(\"Harris\",0)\n",
    "cv.imshow('Harris',img_out)\n",
    "\n",
    "plt.imshow(dst, cmap='binary')\n",
    "plt.show()"
   ]
  },
  {
   "cell_type": "code",
   "execution_count": 10,
   "metadata": {},
   "outputs": [
    {
     "name": "stderr",
     "output_type": "stream",
     "text": [
      "C:\\Users\\leand\\AppData\\Local\\Temp\\ipykernel_14672\\3714238449.py:22: DeprecationWarning: `np.int0` is a deprecated alias for `np.intp`.  (Deprecated NumPy 1.24)\n",
      "  res = np.int0(res)\n"
     ]
    },
    {
     "data": {
      "text/plain": [
       "<matplotlib.image.AxesImage at 0x175cda235b0>"
      ]
     },
     "execution_count": 10,
     "metadata": {},
     "output_type": "execute_result"
    }
   ],
   "source": [
    "# Agregamos subpixel\n",
    "\n",
    "# Encontrar esquinas de Harris\n",
    "dst = cv.cornerHarris(gray, blockSize=2, ksize=3, k=0.06)\n",
    "dst = cv.dilate(dst,None)\n",
    "ret, dst = cv.threshold(dst,0.01*dst.max(),255,0)\n",
    "dst = np.uint8(dst)\n",
    "\n",
    "# Encontrar Centroides\n",
    "ret, labels, stats, centroids = cv.connectedComponentsWithStats(dst)\n",
    "\n",
    "# definir el criterio para detención y refinación de esquinas\n",
    "criteria = (cv.TERM_CRITERIA_MAX_ITER + cv.TERM_CRITERIA_EPS, 100, 0.001)\n",
    "\n",
    "# Para evitar singularidades en la matriz de harris se puede aplicar una zeroZone\n",
    "# dentro de la ventana de busqueda en la cual los pixeles no van a ser a ser analizados\n",
    "\n",
    "corners = cv.cornerSubPix(gray, np.float32(centroids), winSize=(5,5), zeroZone=(-1,-1), criteria=criteria)\n",
    "\n",
    "# Dibujar esquinas\n",
    "res = np.hstack((centroids,corners))\n",
    "res = np.int0(res)\n",
    "img[res[:,1],res[:,0]]=[0,0,255]\n",
    "img[res[:,3],res[:,2]] = [0,255,0]\n",
    "plt.imshow(img)"
   ]
  },
  {
   "cell_type": "code",
   "execution_count": 13,
   "metadata": {},
   "outputs": [
    {
     "data": {
      "text/plain": [
       "1"
      ]
     },
     "execution_count": 13,
     "metadata": {},
     "output_type": "execute_result"
    }
   ],
   "source": []
  },
  {
   "cell_type": "markdown",
   "metadata": {},
   "source": [
    "#### Shi - Tomassi"
   ]
  },
  {
   "cell_type": "code",
   "execution_count": 11,
   "metadata": {},
   "outputs": [
    {
     "name": "stderr",
     "output_type": "stream",
     "text": [
      "C:\\Users\\leand\\AppData\\Local\\Temp\\ipykernel_14672\\970263445.py:6: DeprecationWarning: `np.int0` is a deprecated alias for `np.intp`.  (Deprecated NumPy 1.24)\n",
      "  corners = np.int0(corners)\n"
     ]
    },
    {
     "data": {
      "text/plain": [
       "(<matplotlib.image.AxesImage at 0x175cf9d3ac0>, None)"
      ]
     },
     "execution_count": 11,
     "metadata": {},
     "output_type": "execute_result"
    }
   ],
   "source": [
    "img_out=img.copy()\n",
    "\n",
    "# Detector de esquinas de Shi-Tomassi (imagen, Nmax, calidad, distancia mínima)\n",
    "#corners = cv.goodFeaturesToTrack(gray,10,0.01,20)\n",
    "corners = cv.goodFeaturesToTrack(gray,98,0.01,10)\n",
    "corners = np.int0(corners)\n",
    "for i in corners:\n",
    "    x,y = i.ravel()\n",
    "    cv.circle(img_out,(x,y),3,255,-1)\n",
    "    \n",
    "img_out = cv.cvtColor(img_out,cv.COLOR_BGR2RGB)\n",
    "plt.imshow(img_out,cmap='gray'),plt.show()"
   ]
  },
  {
   "cell_type": "code",
   "execution_count": null,
   "metadata": {},
   "outputs": [],
   "source": []
  }
 ],
 "metadata": {
  "kernelspec": {
   "display_name": "Python 3.7.10 ('vision-robotica')",
   "language": "python",
   "name": "python3"
  },
  "language_info": {
   "codemirror_mode": {
    "name": "ipython",
    "version": 3
   },
   "file_extension": ".py",
   "mimetype": "text/x-python",
   "name": "python",
   "nbconvert_exporter": "python",
   "pygments_lexer": "ipython3",
   "version": "3.10.14"
  },
  "vscode": {
   "interpreter": {
    "hash": "0af437b5139b375ee3fab2b21e8a1376590e14b3c752e237587dc080bd8d5be3"
   }
  }
 },
 "nbformat": 4,
 "nbformat_minor": 4
}
