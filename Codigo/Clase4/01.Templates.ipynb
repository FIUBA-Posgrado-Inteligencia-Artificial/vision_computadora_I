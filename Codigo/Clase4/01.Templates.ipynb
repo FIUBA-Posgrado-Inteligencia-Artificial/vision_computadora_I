{
 "cells": [
  {
   "attachments": {},
   "cell_type": "markdown",
   "metadata": {},
   "source": [
    "### Coincidencia de patrones"
   ]
  },
  {
   "cell_type": "code",
   "execution_count": 9,
   "metadata": {},
   "outputs": [],
   "source": [
    "%matplotlib qt\n",
    "\n",
    "import numpy as np\n",
    "import cv2 as cv\n",
    "import matplotlib.pyplot as plt"
   ]
  },
  {
   "cell_type": "code",
   "execution_count": 10,
   "metadata": {},
   "outputs": [
    {
     "data": {
      "text/plain": [
       "<matplotlib.image.AxesImage at 0x19e1663ca30>"
      ]
     },
     "execution_count": 10,
     "metadata": {},
     "output_type": "execute_result"
    }
   ],
   "source": [
    "# Cargamos la imagen a procesar\n",
    "img = cv.imread('batman_lego.jpg')\n",
    "\n",
    "img_rgb= cv.cvtColor(img, cv.COLOR_BGR2RGB)\n",
    "img_gray= cv.cvtColor(img, cv.COLOR_BGR2GRAY)\n",
    "template = cv.imread('patron.png',0)\n",
    "\n",
    "plt.figure()\n",
    "plt.subplot(1,2,1)\n",
    "plt.imshow(template, cmap='gray')\n",
    "plt.subplot(1,2,2)\n",
    "plt.imshow(img_rgb)"
   ]
  },
  {
   "attachments": {},
   "cell_type": "markdown",
   "metadata": {},
   "source": [
    "#### 1. Comparación según los distintos métodos"
   ]
  },
  {
   "cell_type": "code",
   "execution_count": 11,
   "metadata": {},
   "outputs": [],
   "source": [
    "w, h = template.shape[::-1]\n",
    "# Los 6 métodos posibles para comparación:\n",
    "methods = ['cv.TM_CCOEFF', 'cv.TM_CCOEFF_NORMED', 'cv.TM_CCORR',\n",
    "            'cv.TM_CCORR_NORMED', 'cv.TM_SQDIFF', 'cv.TM_SQDIFF_NORMED']\n",
    "\n",
    "for meth in methods:\n",
    "    # Hago una copia de la imagen porque ciclo a ciclo le dibujo rectángulos\n",
    "    img_salida = img_rgb.copy()\n",
    "    \n",
    "    method = eval(meth)\n",
    "    \n",
    "    # Aplicamos la coincidencia de patrones\n",
    "    #--------------------------------------\n",
    "    res = cv.matchTemplate(img_gray, template, method)\n",
    "    \n",
    "    # Encontramos los valores máximos y mínimos\n",
    "    min_val, max_val, min_loc, max_loc = cv.minMaxLoc(res)\n",
    "    \n",
    "    # Si el método es TM_SQDIFF o TM_SQDIFF_NORMED, tomamos el mínimo\n",
    "    if method in [cv.TM_SQDIFF, cv.TM_SQDIFF_NORMED]:\n",
    "        top_left = min_loc\n",
    "    else:\n",
    "        top_left = max_loc\n",
    "    \n",
    "    # Marcamos el lugar donde lo haya encontrado\n",
    "    #----------------------------------------\n",
    "    bottom_right = (top_left[0] + w, top_left[1] + h)\n",
    "    cv.rectangle(img_salida,top_left, bottom_right, 255, 2)\n",
    "    \n",
    "    # Graficamos el procesamiento y la salida\n",
    "    #----------------------------------------\n",
    "    plt.figure()\n",
    "    \n",
    "    # Resultado de coincidencia\n",
    "    plt.subplot(121),plt.imshow(res,cmap = 'gray')\n",
    "    plt.title('Matching Result'), plt.xticks([]), plt.yticks([])\n",
    "    \n",
    "    # Imagen original con recuadros\n",
    "    plt.subplot(122),plt.imshow(img_salida)\n",
    "    plt.title('Detected Point'), plt.xticks([]), plt.yticks([])\n",
    "    \n",
    "    plt.suptitle(meth)\n",
    "    plt.show()"
   ]
  },
  {
   "attachments": {},
   "cell_type": "markdown",
   "metadata": {},
   "source": [
    "#### 2. Coincidencia de patrones con objetos múltiples"
   ]
  },
  {
   "cell_type": "code",
   "execution_count": 12,
   "metadata": {},
   "outputs": [],
   "source": [
    "img_rgb = cv.imread('batman_lego.jpg')\n",
    "img_gray = cv.cvtColor(img_rgb, cv.COLOR_BGR2GRAY)\n",
    "template = cv.imread('patron.png',0)\n",
    "\n",
    "w, h = template.shape[::-1]\n",
    "res = cv.matchTemplate(img_gray,template,cv.TM_CCOEFF_NORMED)\n",
    "# Fijamos un umbral de \"coincidencia\"\n",
    "threshold = 0.75\n",
    "\n",
    "loc = np.where( res >= threshold)\n",
    "for pt in zip(*loc[::-1]):\n",
    "    cv.rectangle(img_rgb, pt, (pt[0] + w, pt[1] + h), (0,0,255), 2)\n",
    "\n",
    "cv.imshow(\"batmans\",img_rgb)    \n",
    "#cv.imwrite('res.png',img_rgb)\n"
   ]
  },
  {
   "cell_type": "code",
   "execution_count": null,
   "metadata": {},
   "outputs": [],
   "source": []
  }
 ],
 "metadata": {
  "kernelspec": {
   "display_name": "Python 3.7.10 ('vision-robotica')",
   "language": "python",
   "name": "python3"
  },
  "language_info": {
   "codemirror_mode": {
    "name": "ipython",
    "version": 3
   },
   "file_extension": ".py",
   "mimetype": "text/x-python",
   "name": "python",
   "nbconvert_exporter": "python",
   "pygments_lexer": "ipython3",
   "version": "3.10.14"
  },
  "vscode": {
   "interpreter": {
    "hash": "0af437b5139b375ee3fab2b21e8a1376590e14b3c752e237587dc080bd8d5be3"
   }
  }
 },
 "nbformat": 4,
 "nbformat_minor": 4
}
