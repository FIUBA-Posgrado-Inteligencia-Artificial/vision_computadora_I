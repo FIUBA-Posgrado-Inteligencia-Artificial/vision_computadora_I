{
 "cells": [
  {
   "attachments": {},
   "cell_type": "markdown",
   "metadata": {},
   "source": [
    "## Transformada de Hough"
   ]
  },
  {
   "cell_type": "code",
   "execution_count": 1,
   "metadata": {},
   "outputs": [
    {
     "name": "stdout",
     "output_type": "stream",
     "text": [
      "Using matplotlib backend: Qt5Agg\n"
     ]
    }
   ],
   "source": [
    "#Si queremos que las imágenes sean mostradas en una ventana emergente quitar el inline\n",
    "# %matplotlib inline\n",
    "%matplotlib\n",
    "import numpy as np\n",
    "import cv2 as cv\n",
    "import matplotlib.pyplot as plt"
   ]
  },
  {
   "attachments": {},
   "cell_type": "markdown",
   "metadata": {},
   "source": [
    "#### Transformada de Hough - Líneas"
   ]
  },
  {
   "cell_type": "code",
   "execution_count": 2,
   "metadata": {},
   "outputs": [],
   "source": [
    "# Leemos la imagen\n",
    "#=================\n",
    "img = cv.imread('parking.png')\n",
    "gray = cv.cvtColor(img,cv.COLOR_BGR2GRAY)\n",
    "\n",
    "# Obtenemos los bordes por Canny\n",
    "#===============================\n",
    "edges = cv.Canny(gray, 220, 260, apertureSize = 3)\n",
    "#plt.figure(figsize=(20,20))\n",
    "\n",
    "\n",
    "# Obtenemos las líneas por la transformada de Hough\n",
    "#==================================================\n",
    "rho_step = 1\n",
    "theta_step = (np.pi/180)*1\n",
    "thresh = 250\n",
    "lines = cv.HoughLines(edges, rho_step, theta_step, thresh, min_theta=0, max_theta=180)\n",
    "\n",
    "# Dibujamos lo resultados\n",
    "#========================\n",
    "img2show = img.copy()\n",
    "for line in lines:\n",
    "    rho, theta = line[0]\n",
    "    a = np.cos(theta)\n",
    "    b = np.sin(theta)\n",
    "    x0 = a*rho\n",
    "    y0 = b*rho\n",
    "    x1 = int(x0 + 1000*(-b))\n",
    "    y1 = int(y0 + 1000*(a))\n",
    "    x2 = int(x0 - 1000*(-b))\n",
    "    y2 = int(y0 - 1000*(a))\n",
    "    cv.line(img2show, (x1, y1), (x2, y2), (0, 0, 255), 2)\n",
    "#cv.imwrite('houghlines3.jpg',img)\n",
    "#plt.figure(figsize=(20,20))\n",
    "plt.imshow(img2show)\n",
    "plt.show()"
   ]
  },
  {
   "attachments": {},
   "cell_type": "markdown",
   "metadata": {},
   "source": [
    "### Transformada de Hough Probabilistica\n",
    "\n",
    "Paper: Jiri Matas, Charles Galambos, and Josef Kittler. Robust detection of lines using the progressive probabilistic hough transform. Computer Vision and Image Understanding, 78(1):119–137, 2000."
   ]
  },
  {
   "cell_type": "code",
   "execution_count": null,
   "metadata": {},
   "outputs": [],
   "source": [
    "# Probabilistic Line Transform\n",
    "# Leemos la imagen\n",
    "#=================\n",
    "img = cv.imread('parking.png')\n",
    "gray = cv.cvtColor(img, cv.COLOR_BGR2GRAY)\n",
    "\n",
    "# Obtenemos los bordes por Canny\n",
    "#===============================\n",
    "edges = cv.Canny(gray, 220, 260, apertureSize = 3)\n",
    "plt.figure()\n",
    "plt.imshow(edges, cmap='gray')\n",
    "plt.show()\n",
    "linesP = cv.HoughLinesP(edges, 1, np.pi / 180, threshold=200, minLineLength=100, maxLineGap=220)\n",
    "img2show = img.copy()\n",
    "if len(linesP):\n",
    "    for [[x1, y1, x2, y2]] in linesP:\n",
    "        cv.line(img2show, (x1, y1), (x2, y2), (255, 0, 0), 1)\n",
    "    plt.figure()\n",
    "    plt.imshow(img2show)\n",
    "    plt.show()\n",
    "else:\n",
    "    print('No se encontraron lineas')"
   ]
  },
  {
   "attachments": {},
   "cell_type": "markdown",
   "metadata": {},
   "source": [
    "#### Transformada de Hough - Círculos"
   ]
  },
  {
   "cell_type": "code",
   "execution_count": null,
   "metadata": {},
   "outputs": [],
   "source": [
    "# Leemos la imagen\n",
    "#=================\n",
    "img = cv.imread('tapitas.jpg')\n",
    "#img = cv.imread('eyes.jpg')\n",
    "gray = cv.cvtColor(img, cv.COLOR_BGR2GRAY)\n",
    "\n",
    "# Suavizamos la imagen\n",
    "#=====================\n",
    "gray = cv.medianBlur(gray,5)"
   ]
  },
  {
   "cell_type": "code",
   "execution_count": null,
   "metadata": {},
   "outputs": [],
   "source": [
    "# Obtenemos los círculos por la transformada de Hough\n",
    "# (imagen en grises, método, flag de resolución del acumulador, dist mín entre centros de círculos\n",
    "# umbral alto de Canny, umbral del acumulador, radio_min, radio_max)\n",
    "#===================================================================\n",
    "img_out = img.copy()\n",
    "\n",
    "circles = cv.HoughCircles(gray, cv.HOUGH_GRADIENT, 1, minDist=10, param1=120, param2=40, minRadius=10, maxRadius=100)\n",
    "\n",
    "circles = np.uint16(np.around(circles))\n",
    "for i in circles[0,:]:\n",
    "    # Dibujamos el círculo externo\n",
    "    cv.circle(img_out,(i[0],i[1]),i[2],(0,255,0),2)\n",
    "    # Dibujamos el centro del círculo\n",
    "    cv.circle(img_out,(i[0],i[1]),2,(0,0,255),3)\n",
    "cv.imshow('detected circles',img_out)\n",
    "cv.waitKey(0)\n",
    "cv.destroyAllWindows()"
   ]
  },
  {
   "cell_type": "code",
   "execution_count": null,
   "metadata": {},
   "outputs": [],
   "source": []
  }
 ],
 "metadata": {
  "kernelspec": {
   "display_name": "Python 3.7.10 ('vision-robotica')",
   "language": "python",
   "name": "python3"
  },
  "language_info": {
   "codemirror_mode": {
    "name": "ipython",
    "version": 3
   },
   "file_extension": ".py",
   "mimetype": "text/x-python",
   "name": "python",
   "nbconvert_exporter": "python",
   "pygments_lexer": "ipython3",
   "version": "3.7.10"
  },
  "vscode": {
   "interpreter": {
    "hash": "0af437b5139b375ee3fab2b21e8a1376590e14b3c752e237587dc080bd8d5be3"
   }
  }
 },
 "nbformat": 4,
 "nbformat_minor": 4
}
