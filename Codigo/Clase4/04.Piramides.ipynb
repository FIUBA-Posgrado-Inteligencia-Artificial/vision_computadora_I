{
 "cells": [
  {
   "cell_type": "markdown",
   "metadata": {},
   "source": [
    "### Pirámides"
   ]
  },
  {
   "cell_type": "code",
   "execution_count": 1,
   "metadata": {},
   "outputs": [
    {
     "name": "stdout",
     "output_type": "stream",
     "text": [
      "Using matplotlib backend: Qt5Agg\n"
     ]
    }
   ],
   "source": [
    "#Si queremos que las imágenes sean mostradas en una ventana emergente quitar el inline\n",
    "# %matplotlib inline\n",
    "%matplotlib\n",
    "import numpy as np\n",
    "import cv2 as cv\n",
    "import matplotlib.pyplot as plt"
   ]
  },
  {
   "cell_type": "code",
   "execution_count": 2,
   "metadata": {},
   "outputs": [],
   "source": [
    "# Cargamos la imagen a procesar\n",
    "img = cv.imread('justiceleague.jpg')"
   ]
  },
  {
   "cell_type": "markdown",
   "metadata": {},
   "source": [
    "#### 1. Bajamos resolución con pirámides (Gaussianas)"
   ]
  },
  {
   "cell_type": "code",
   "execution_count": 3,
   "metadata": {},
   "outputs": [
    {
     "name": "stdout",
     "output_type": "stream",
     "text": [
      "\n",
      "Tamaño imagen: (1080, 1920, 3) pix\n",
      "\n",
      "Tamaño imagen: (540, 960, 3) pix\n",
      "\n",
      "Tamaño imagen: (270, 480, 3) pix\n",
      "\n",
      "Tamaño imagen: (135, 240, 3) pix\n"
     ]
    }
   ],
   "source": [
    "print('\\nTamaño imagen: {} pix'.format(img.shape))\n",
    "\n",
    "#Nivel 1\n",
    "img_nivel_1 = cv.pyrDown(img)\n",
    "print('\\nTamaño imagen: {} pix'.format(img_nivel_1.shape))\n",
    "\n",
    "#Nivel 2\n",
    "img_nivel_2 = cv.pyrDown(img_nivel_1)\n",
    "print('\\nTamaño imagen: {} pix'.format(img_nivel_2.shape))\n",
    "\n",
    "#Nivel 3\n",
    "img_nivel_3 = cv.pyrDown(img_nivel_2)\n",
    "print('\\nTamaño imagen: {} pix'.format(img_nivel_3.shape))\n",
    "\n",
    "# Muestro los resultados\n",
    "cv.imshow(\"Imagen Original\", img)\n",
    "cv.imshow(\"Imagen Nivel 1\", img_nivel_1)\n",
    "cv.imshow(\"Imagen Nivel 2\", img_nivel_2)\n",
    "cv.imshow(\"Imagen Nivel 3\", img_nivel_3)"
   ]
  },
  {
   "cell_type": "markdown",
   "metadata": {},
   "source": [
    "#### 2. Subimos un nivel (desde el último)"
   ]
  },
  {
   "cell_type": "code",
   "execution_count": 4,
   "metadata": {},
   "outputs": [],
   "source": [
    "# Esto aumenta la resolución inyectando filas y columnas de ceros intercaladas y luego \n",
    "# convolucionando el resultado con el núcleo gaussiano 5 × 5 multiplicado por 4\n",
    "img_nivel_2 = cv.pyrUp(img_nivel_3)\n",
    "\n",
    "# Muestro el resultado por subir el nivel\n",
    "cv.imshow(\"Imagen Nivel 2\", img_nivel_2)"
   ]
  },
  {
   "cell_type": "markdown",
   "metadata": {},
   "source": [
    "#### Otra forma de modificar la resolucion (util para downscaling o upscaling con escala arbitraria)"
   ]
  },
  {
   "cell_type": "code",
   "execution_count": 5,
   "metadata": {},
   "outputs": [
    {
     "name": "stdout",
     "output_type": "stream",
     "text": [
      "Tamaño original: (360, 480, 3)\n",
      "Dimensiones generadas:\n",
      "(180, 240, 3)\n",
      "(315, 420, 3)\n",
      "(450, 600, 3)\n",
      "(585, 780, 3)\n",
      "(720, 960, 3)\n"
     ]
    }
   ],
   "source": [
    "img = cv.imread('origami.jpg')\n",
    "print(f'Tamaño original: {img.shape}')\n",
    "\n",
    "scales = np.linspace(0.5, 2, 5)\n",
    "resized_imgs = list()\n",
    "\n",
    "# generamos nuestra \"piramide\" de tamaños arbitrarios\n",
    "print(f'Dimensiones generadas:')\n",
    "for scale in scales:\n",
    "    resized_imgs.append(cv.resize(img, None, fx=scale, fy=scale))\n",
    "    print(resized_imgs[-1].shape)\n",
    "\n",
    "# mostramos las imagenes\n",
    "for i, img in enumerate(resized_imgs):\n",
    "    cv.imshow(f'nivel-{i}', img)"
   ]
  },
  {
   "cell_type": "markdown",
   "metadata": {},
   "source": [
    "#### 3. Pirámide Laplaciana"
   ]
  },
  {
   "cell_type": "code",
   "execution_count": 6,
   "metadata": {},
   "outputs": [],
   "source": [
    "base = img.copy()\n",
    "\n",
    "# Creamos la pirámide Gaussiana\n",
    "piramide_gauss = [base]\n",
    "for i in range(3):\n",
    "    base = cv.pyrDown(base)\n",
    "    piramide_gauss.append(base)\n",
    "\n",
    "# El último nivel de la Gaussiana permanece en el mismo lugar en la Laplaciana\n",
    "punta_laplaciana = piramide_gauss[-1]\n",
    " \n",
    "# Creamos la pirámide Laplaciana\n",
    "piramide_laplace = [punta_laplaciana]\n",
    "for i in range(3,0,-1):\n",
    "    size = (piramide_gauss[i - 1].shape[1], piramide_gauss[i - 1].shape[0])\n",
    "    gaussiana_expandida = cv.pyrUp(piramide_gauss[i], dstsize=size)\n",
    "    laplaciana = cv.subtract(piramide_gauss[i-1], gaussiana_expandida)\n",
    "    piramide_laplace.append(laplaciana)\n",
    "    cv.imshow('nivel-{}'.format(i-1),laplaciana)"
   ]
  },
  {
   "cell_type": "markdown",
   "metadata": {},
   "source": [
    "#### 4. Fusión de imágenes"
   ]
  },
  {
   "cell_type": "code",
   "execution_count": 7,
   "metadata": {},
   "outputs": [],
   "source": [
    "# Paso 2\n",
    "#=======\n",
    "# Encontrar las pirámides Gaussianas de las dos imágenes y la máscara\n",
    "def gaussian_pyramid(img, num_levels):\n",
    "    lower = img.copy()\n",
    "    gaussian_pyr = [lower]\n",
    "    for i in range(num_levels):\n",
    "        lower = cv.pyrDown(lower)\n",
    "        gaussian_pyr.append(np.float32(lower))\n",
    "    return gaussian_pyr\n",
    "\n",
    "# Paso 3\n",
    "#=======\n",
    "# Calcular la pirámide Laplaciana\n",
    "def laplacian_pyramid(gaussian_pyr):\n",
    "    laplacian_top = gaussian_pyr[-1]\n",
    "    num_levels = len(gaussian_pyr) - 1\n",
    "    \n",
    "    laplacian_pyr = [laplacian_top]\n",
    "    for i in range(num_levels,0,-1):\n",
    "        size = (gaussian_pyr[i - 1].shape[1], gaussian_pyr[i - 1].shape[0])\n",
    "        gaussian_expanded = cv.pyrUp(gaussian_pyr[i], dstsize=size)\n",
    "        laplacian = np.subtract(gaussian_pyr[i-1], gaussian_expanded)\n",
    "        laplacian_pyr.append(laplacian)\n",
    "    return laplacian_pyr\n",
    "\n",
    "# Paso 4\n",
    "#=======\n",
    "# Fusionar las dos imagenes según la máscara indicada\n",
    "def blend(laplacian_A,laplacian_B,mask_pyr):\n",
    "    LS = []\n",
    "    for la,lb,mask in zip(laplacian_A,laplacian_B,mask_pyr):\n",
    "        ls = lb * mask + la * (1.0 - mask)\n",
    "        LS.append(ls)\n",
    "    return LS\n",
    "\n",
    "# Paso 5\n",
    "#=======\n",
    "# Reconstruir la imagen original\n",
    "def reconstruct(laplacian_pyr):\n",
    "    laplacian_top = laplacian_pyr[0]\n",
    "    laplacian_lst = [laplacian_top]\n",
    "    num_levels = len(laplacian_pyr) - 1\n",
    "    for i in range(num_levels):\n",
    "        size = (laplacian_pyr[i + 1].shape[1], laplacian_pyr[i + 1].shape[0])\n",
    "        laplacian_expanded = cv.pyrUp(laplacian_top, dstsize=size)\n",
    "        laplacian_top = cv.add(laplacian_pyr[i+1], laplacian_expanded)\n",
    "        laplacian_lst.append(laplacian_top)\n",
    "    return laplacian_lst"
   ]
  },
  {
   "cell_type": "code",
   "execution_count": 8,
   "metadata": {},
   "outputs": [
    {
     "data": {
      "text/plain": [
       "<matplotlib.image.AxesImage at 0x14a8e874888>"
      ]
     },
     "execution_count": 8,
     "metadata": {},
     "output_type": "execute_result"
    }
   ],
   "source": [
    "# Paso 1\n",
    "#=======\n",
    "# Cargamos las imágenes\n",
    "img1 = cv.imread('justiceleague.jpg')\n",
    "img2 = cv.imread('guason.png')\n",
    "# Modificamos los tamaños de las imágenes si fuese necesario (en nuestro caso tienen el mismo tamaño)\n",
    "#img1 = cv.resize(img1, (1920, 1080))\n",
    "#img2 = cv.resize(img2, (1920, 1080))\n",
    "\n",
    "# Muestro las imágenes para elegir los límites de la máscara\n",
    "plt.imshow(img1)\n",
    "plt.figure()\n",
    "plt.imshow(img2)"
   ]
  },
  {
   "cell_type": "code",
   "execution_count": 8,
   "metadata": {},
   "outputs": [
    {
     "data": {
      "text/plain": [
       "True"
      ]
     },
     "execution_count": 8,
     "metadata": {},
     "output_type": "execute_result"
    }
   ],
   "source": [
    "# Crear la máscara\n",
    "#mask = cv.imread('justiceleague_mask.png')\n",
    "mask = np.zeros((1080,1920,3), dtype='float32')\n",
    "mask[130:430,605:825,:] = (1,1,1)\n",
    "\n",
    "num_levels = 7\n",
    "\n",
    "# Para la 1er imagen, calcular Gaussiana y Laplaciana\n",
    "gaussian_pyr_1 = gaussian_pyramid(img1, num_levels)\n",
    "laplacian_pyr_1 = laplacian_pyramid(gaussian_pyr_1)\n",
    "# Para la 2da imagen, calcular Gaussiana y Laplaciana\n",
    "gaussian_pyr_2 = gaussian_pyramid(img2, num_levels)\n",
    "laplacian_pyr_2 = laplacian_pyramid(gaussian_pyr_2)\n",
    "# Calcular la pirámide Gaussiana para la máscara e invertirla\n",
    "mask_pyr_final = gaussian_pyramid(mask, num_levels)\n",
    "mask_pyr_final.reverse()\n",
    "# Armar pirámide de fusión de las imágenes\n",
    "add_laplace = blend(laplacian_pyr_1,laplacian_pyr_2,mask_pyr_final)\n",
    "# Reconstruir la imagen\n",
    "final  = reconstruct(add_laplace)\n",
    "\n",
    "# Guardo en disco\n",
    "cv.imwrite('fusion.png',final[num_levels])"
   ]
  },
  {
   "cell_type": "code",
   "execution_count": null,
   "metadata": {},
   "outputs": [],
   "source": []
  }
 ],
 "metadata": {
  "kernelspec": {
   "display_name": "Python 3.7.10 ('vision-robotica')",
   "language": "python",
   "name": "python3"
  },
  "language_info": {
   "codemirror_mode": {
    "name": "ipython",
    "version": 3
   },
   "file_extension": ".py",
   "mimetype": "text/x-python",
   "name": "python",
   "nbconvert_exporter": "python",
   "pygments_lexer": "ipython3",
   "version": "3.7.10"
  },
  "vscode": {
   "interpreter": {
    "hash": "0af437b5139b375ee3fab2b21e8a1376590e14b3c752e237587dc080bd8d5be3"
   }
  }
 },
 "nbformat": 4,
 "nbformat_minor": 4
}
